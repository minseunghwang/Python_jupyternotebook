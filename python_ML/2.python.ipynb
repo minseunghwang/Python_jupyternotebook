{
 "cells": [
  {
   "cell_type": "code",
   "execution_count": 12,
   "metadata": {
    "scrolled": true
   },
   "outputs": [
    {
     "name": "stdout",
     "output_type": "stream",
     "text": [
      "0.75\n",
      "81\n",
      "1\n",
      "3\n"
     ]
    }
   ],
   "source": [
    "## 1. 주석\n",
    "\n",
    "##python의 주석은 2가지 종류{ #. \"\"\"\"\"\"}\n",
    "\n",
    "## 2. 내장 상수\n",
    "# True, False, None(값이 존재하지 않음을ㅇ 의미)\n",
    "a = True\n",
    "b = False\n",
    "c = None\n",
    "\n",
    "## 3. built-in data type(내장형)\n",
    "## 3-1. Numeric type(숫자형)\n",
    "a = 123                    # 정수\n",
    "b = 3.1415926535           # 실수\n",
    "c = 3.14E10                # 실수(지수형태로표현)\n",
    "\n",
    "div = 3/4\n",
    "print(div)                 # Java코드라면 0(정수라서)\n",
    "                           # 코드를 실행하려면 Ctrl + Enter\n",
    "    \n",
    "result = 3 ** 4            # 3의 4승 81\n",
    "print(result)\n",
    "\n",
    "result = 10%3              # 나머지 연산 : %\n",
    "print(result)\n",
    "\n",
    "result = 10 // 3           # 나눗셈의 몫 : /\n",
    "print(result)"
   ]
  },
  {
   "cell_type": "code",
   "execution_count": 40,
   "metadata": {},
   "outputs": [
    {
     "name": "stdout",
     "output_type": "stream",
     "text": [
      "이것은소리없는아우성\n",
      "이것은100\n",
      "pythonpythonpython\n",
      "True\n",
      "나는 사과를 30개 가지고 있어요\n",
      "나는 사과 5개, 바나나 여섯개 가지고 있어요\n",
      "8\n",
      "3\n",
      "1\n",
      "a:b:c:d\n",
      "   HOBBY  \n",
      "   hobby  \n",
      "hoBBy\n"
     ]
    }
   ],
   "source": [
    "### 2. Built-in type : Text Sequence type : str\n",
    "## 문자열 생성방법\n",
    "# Java는 문자열(\" \")과 문자(' ')의 구분이 있지만\n",
    "#python은 문자열과 문자의 구분이 없어요(\"\",'')\n",
    "a=\"안녕하세요\"\n",
    "b='솔이없는 아우성'\n",
    "\n",
    "c=\"\"\" 여러줄에 걸친\n",
    "문자열도 만들\n",
    "수 있어요\"\"\"\n",
    "\n",
    "# 문자열 연산, indexing, slicing\n",
    "first = \"이것은\"\n",
    "second = \"소리없는\"\n",
    "third = \"아우성\"\n",
    "print(first + second + third)\n",
    "number = 100\n",
    "print(first + str(number))\n",
    "\n",
    "text = \"python\"\n",
    "print(text * 3)\n",
    "\n",
    "sample_text = \"Show me the Money!\"\n",
    "#str(문자열) => TExt Sequence Type\n",
    "#print(sample_text[0])\n",
    "#print(sample_text[-1])\n",
    "\n",
    "#print(sample_text[:3])\n",
    "# 슬라이싱할때 앞은 포함, 뒤는 불 포함\n",
    "\n",
    "#print(sample_text[3:])\n",
    "\n",
    "#print(\"sample\" not in sample_text)     # 이 문장이 저 문장에 포함되냐안되냐\n",
    "print(\"sample\" not in sample_text)\n",
    "\n",
    "#문자열 formattin\n",
    "apple=30\n",
    "my_text = \"나는 사과를 %d개 가지고 있어요\" %apple\n",
    "print(my_text)\n",
    "\n",
    "apple=5\n",
    "banana=\"여섯\"\n",
    "my_text = \"나는 사과 %d개, 바나나 %s개 가지고 있어요\" %(apple,banana)\n",
    "print(my_text)\n",
    "\n",
    "#문자열 함수\n",
    "sample_text = \"cocacola\" \n",
    "print(len(sample_text))                     # 문자열의 길이 : len()\n",
    "print(sample_text.count(\"c\"))               # 특정문자열이 몇번 나오는지 count\n",
    "\n",
    "print(sample_text.find(\"o\"))                # o 가 처음 나오는 위치(인덱스)를 리턴, 만약 찾는 문자열이 없으면 -1 리턴\n",
    "\n",
    "a = \":\"\n",
    "b = \"abcd\"\n",
    "# => a:b:c:d\n",
    "print(a.join(b))                            # 사이사이에 끼워넣기\n",
    "\n",
    "a = \"   hoBBy  \"\n",
    "print(a.upper())                            # 모두 대문자로 변환\n",
    "print(a.lower())                            # 모두 소문자로 변환\n",
    "print(a.strip())                            # 앞뒤 공백 제거\n"
   ]
  }
 ],
 "metadata": {
  "kernelspec": {
   "display_name": "Python 3",
   "language": "python",
   "name": "python3"
  },
  "language_info": {
   "codemirror_mode": {
    "name": "ipython",
    "version": 3
   },
   "file_extension": ".py",
   "mimetype": "text/x-python",
   "name": "python",
   "nbconvert_exporter": "python",
   "pygments_lexer": "ipython3",
   "version": "3.7.3"
  }
 },
 "nbformat": 4,
 "nbformat_minor": 2
}
