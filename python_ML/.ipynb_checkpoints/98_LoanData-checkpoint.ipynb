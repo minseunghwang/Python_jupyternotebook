{
 "cells": [
  {
   "cell_type": "code",
   "execution_count": 2,
   "metadata": {},
   "outputs": [],
   "source": [
    "## 필요한 데이터 파일을 다운로드.\n",
    "## 2015년 Loan Data 다운로드 후 적잘한 위치에 저장.\n",
    "import numpy as np\n",
    "import pandas as pd"
   ]
  },
  {
   "cell_type": "code",
   "execution_count": 4,
   "metadata": {},
   "outputs": [],
   "source": [
    "## 1. Data Loading \n",
    "df = pd.read_csv(\"./data/loandata/LoanStats3d.csv\",\n",
    "                 sep=\",\"       # csv 파일은 기본적으로 , 으로 구분을 합니다. 근데만약에 컴마(,)가 아니면 sep= 해서 구분자를 정해줄수 있따\n",
    "                 ,skiprows=1 ) # skiprows=n // n개 행 건너뛰고부터 읽어!!! \n"
   ]
  },
  {
   "cell_type": "code",
   "execution_count": 21,
   "metadata": {},
   "outputs": [
    {
     "data": {
      "text/plain": [
       "[Index(['id', 'member_id', 'loan_amnt', 'funded_amnt', 'funded_amnt_inv',\n",
       "        'term', 'int_rate', 'installment', 'grade', 'sub_grade',\n",
       "        ...\n",
       "        'orig_projected_additional_accrued_interest',\n",
       "        'hardship_payoff_balance_amount', 'hardship_last_payment_amount',\n",
       "        'debt_settlement_flag', 'debt_settlement_flag_date',\n",
       "        'settlement_status', 'settlement_date', 'settlement_amount',\n",
       "        'settlement_percentage', 'settlement_term'],\n",
       "       dtype='object', length=144)]"
      ]
     },
     "metadata": {},
     "output_type": "display_data"
    }
   ],
   "source": [
    "## 총 데이터의 수 확인( 몇 건의 대출정보가 있는지 확인)\n",
    "# display(df.head())\n",
    "# display(df.shape)\n",
    "display(df.columns)"
   ]
  },
  {
   "cell_type": "code",
   "execution_count": 19,
   "metadata": {},
   "outputs": [
    {
     "data": {
      "text/html": [
       "<div>\n",
       "<style scoped>\n",
       "    .dataframe tbody tr th:only-of-type {\n",
       "        vertical-align: middle;\n",
       "    }\n",
       "\n",
       "    .dataframe tbody tr th {\n",
       "        vertical-align: top;\n",
       "    }\n",
       "\n",
       "    .dataframe thead th {\n",
       "        text-align: right;\n",
       "    }\n",
       "</style>\n",
       "<table border=\"1\" class=\"dataframe\">\n",
       "  <thead>\n",
       "    <tr style=\"text-align: right;\">\n",
       "      <th></th>\n",
       "      <th>loan_amnt</th>\n",
       "      <th>loan_status</th>\n",
       "      <th>grade</th>\n",
       "      <th>int_rate</th>\n",
       "      <th>term</th>\n",
       "    </tr>\n",
       "  </thead>\n",
       "  <tbody>\n",
       "    <tr>\n",
       "      <th>0</th>\n",
       "      <td>24700.0</td>\n",
       "      <td>Fully Paid</td>\n",
       "      <td>C</td>\n",
       "      <td>11.99%</td>\n",
       "      <td>36 months</td>\n",
       "    </tr>\n",
       "    <tr>\n",
       "      <th>1</th>\n",
       "      <td>10000.0</td>\n",
       "      <td>Fully Paid</td>\n",
       "      <td>C</td>\n",
       "      <td>12.88%</td>\n",
       "      <td>36 months</td>\n",
       "    </tr>\n",
       "    <tr>\n",
       "      <th>2</th>\n",
       "      <td>20000.0</td>\n",
       "      <td>Fully Paid</td>\n",
       "      <td>A</td>\n",
       "      <td>6.49%</td>\n",
       "      <td>36 months</td>\n",
       "    </tr>\n",
       "    <tr>\n",
       "      <th>3</th>\n",
       "      <td>20000.0</td>\n",
       "      <td>Fully Paid</td>\n",
       "      <td>A</td>\n",
       "      <td>5.32%</td>\n",
       "      <td>36 months</td>\n",
       "    </tr>\n",
       "    <tr>\n",
       "      <th>4</th>\n",
       "      <td>18000.0</td>\n",
       "      <td>Fully Paid</td>\n",
       "      <td>A</td>\n",
       "      <td>7.49%</td>\n",
       "      <td>36 months</td>\n",
       "    </tr>\n",
       "  </tbody>\n",
       "</table>\n",
       "</div>"
      ],
      "text/plain": [
       "   loan_amnt loan_status grade int_rate        term\n",
       "0    24700.0  Fully Paid     C   11.99%   36 months\n",
       "1    10000.0  Fully Paid     C   12.88%   36 months\n",
       "2    20000.0  Fully Paid     A    6.49%   36 months\n",
       "3    20000.0  Fully Paid     A    5.32%   36 months\n",
       "4    18000.0  Fully Paid     A    7.49%   36 months"
      ]
     },
     "execution_count": 19,
     "metadata": {},
     "output_type": "execute_result"
    }
   ],
   "source": [
    "## 필요한 column만 추출해서 새로운 DataFrame을 생성\n",
    "## loan_amnt : 대출금액\n",
    "## loan_status : 대출 상태\n",
    "## grade : 대출 등급\n",
    "## int_rate : 이자율\n",
    "## term : 대출기간\n",
    "df2 = df[[\"loan_amnt\",\"loan_status\",\"grade\",\"int_rate\",\"term\"]]\n",
    "df2.head()"
   ]
  }
 ],
 "metadata": {
  "kernelspec": {
   "display_name": "Python [conda env:cpu_env] *",
   "language": "python",
   "name": "conda-env-cpu_env-py"
  },
  "language_info": {
   "codemirror_mode": {
    "name": "ipython",
    "version": 3
   },
   "file_extension": ".py",
   "mimetype": "text/x-python",
   "name": "python",
   "nbconvert_exporter": "python",
   "pygments_lexer": "ipython3",
   "version": "3.6.8"
  }
 },
 "nbformat": 4,
 "nbformat_minor": 2
}
