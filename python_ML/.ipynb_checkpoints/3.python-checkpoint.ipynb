{
 "cells": [
  {
   "cell_type": "code",
   "execution_count": 44,
   "metadata": {},
   "outputs": [
    {
     "name": "stdout",
     "output_type": "stream",
     "text": [
      "이것은소리없는\n",
      "거짓말거짓말거짓말\n",
      "s\n",
      "y\n",
      "ow\n",
      "show me the money\n",
      "True\n",
      "나는 사과를 10개 가지고 있어요!\n",
      "나는 사과를 다섯개, 바나나 5개 가지고 있어요!\n",
      "10\n"
     ]
    }
   ],
   "source": [
    "# 1. 주석\n",
    "# 한줄 주석은 # 기호를 이용해서 표현\n",
    "# 여러줄 주석은 ''' ''' (\"\"\" \"\"\")\n",
    "\n",
    "# 2. 기억해야 하는 내장 상수\n",
    "# True, False 존재해요(대소문자 구분)\n",
    "# None : '값이 존재하지 않아' 라는 의미의 상수\n",
    "\n",
    "# 3. Built-in tyoe (내장형)\n",
    "# 3-1. Numeric type(숫자형)\n",
    "a=123\n",
    "a=3.141592\n",
    "a=3.14E10\n",
    "a=0xEE #(16진수)\n",
    "a=0o55 #(8진수)\n",
    "\n",
    "a=3/4 # 결과가 0.75 실수로 나와요!\n",
    "# 몫을 구할때는 '/', 나머지를 구할때는 '%'\n",
    "\n",
    "# 3-2. Text Sequence Type(str)\n",
    "\n",
    "# 기본적인 문자열 표현 :\"\",''\n",
    "# 문자열 연결\n",
    "print(\"이것은\" + '소리없는')\n",
    "print(\"거짓말\" *3)\n",
    "# 문자열의 indexing, slicing\n",
    "# indexing : 배열을 생각하시면 되요!\n",
    "a =\"show me the money\"\n",
    "print(a[0]) # indexing\n",
    "print(a[-1]) #index의 값이 음수면 뒤에서부터 위치 계산\n",
    "print(a[2:4]) #slicing\n",
    "print(a[:])\n",
    "\n",
    "# in 연산자\n",
    "a = \"Hello\"\n",
    "print(\"e\" in a) # a안에 'e'라는 게 있니 ?\n",
    "\n",
    "# 문자열 포매팅은 상당히 여러 방법이 있어요\n",
    "sample = \"나는 사과를 %d개 가지고 있어요!\" %10\n",
    "print(sample)\n",
    "sample = \"나는 사과를 {0}개, 바나나 {1}개 가지고 있어요!\" .format(\"다섯\",\"5\") # .format(5)  이런식으로 써도됨 걍알아서 다맞춰짐 ㄷ\n",
    "print(sample)\n",
    "\n",
    "# 많이 사용되는 문자열 함수에 대해서도 기억해야 해요!\n",
    "sample = \"sampleText\"\n",
    "print(len(sample))\n"
   ]
  },
  {
   "cell_type": "code",
   "execution_count": 21,
   "metadata": {},
   "outputs": [
    {
     "name": "stdout",
     "output_type": "stream",
     "text": [
      "[1, 2, 3, 7, 8]\n",
      "[8, 7, 3, 2, 1]\n",
      "4\n"
     ]
    }
   ],
   "source": [
    "# Python Sequence Type : list\n",
    "# Java ArrayList와 상당히 유사.\n",
    "\n",
    "# list의 생성\n",
    "a = list() # 공백 리스트를 생성\n",
    "a = [] # 공백 리스트를 생성\n",
    "a = [1,2,3] # 일반적인 리스트 생성\n",
    "a = [1,2,3,\"안녕하세요\",3.141592,False] # list안에 각기 다른 타입이 들어올 수 있다\n",
    "a= [1,2,[3,4,5],5,6]\n",
    "\n",
    "#indexing과 slicing 사용가능.(문자열 사용과 유사)\n",
    "# print(a[0])\n",
    "# print(a[-3])\n",
    "# print(a[1:3])\n",
    "\n",
    "# list의 연산\n",
    "# a = [1,2,3]\n",
    "# b = [4,5,6]\n",
    "# print (a+b)\n",
    "# print(a*3)\n",
    "\n",
    "# a = [1,2,3]\n",
    "# a[0] = 5\n",
    "# print(a)\n",
    "# a[0] = [9,9,9]\n",
    "# print(a)\n",
    "\n",
    "# a[0:1] = [9,9,9] # 오우 이거 신기하네 좀다름( 지칭하는 영역은 갖지만 indexing으로 사양되는가 slicing으로 사양되는지에 따라 결과가 다름)\n",
    "# print(a)\n",
    "\n",
    "# a = [1,2,3,4,5,6,7]\n",
    "# # 위의 list를 [1,2,6,7]로 변형ㅎ아려면 ?\n",
    "# a[2:5]=[]\n",
    "# print(a) # print(len(a)) \n",
    "\n",
    "# # 리스트의 사용 함수\n",
    "# my_list2 = list([1,2,3])\n",
    "# print(my_list2)\n",
    "# my_list=[1,2,3]\n",
    "# print(my_list)\n",
    "\n",
    "# my_list.append([5,6,7]) # 맨 마지막에 인덱스에 값을 추가\n",
    "# print(my_list)\n",
    "\n",
    "# my_list.extend([1,6,7]) # 뒤에 리스트 값 추가?\n",
    "# print(my_list)\n",
    "\n",
    "my_list = [7,3,1,8,2]\n",
    "result = my_list.sort() # 오름차순으로 정렬, 결과를 리턴하지 않고 원본을 제어\n",
    "print(my_list)\n",
    "result=my_list.reverse() # 리스트의 순서를 역으로 바꾸어요 *내림차순 아님\n",
    "print(my_list)\n",
    "print(my_list.index(1)) # index() 는 찾는 값의 위치를 리턴"
   ]
  },
  {
   "cell_type": "code",
   "execution_count": 130,
   "metadata": {},
   "outputs": [
    {
     "name": "stdout",
     "output_type": "stream",
     "text": [
      "10\n",
      "2\n",
      "(3, 4)\n",
      "(1, 2, 3, 5, 6, 7)\n",
      "(1, 2, 3)\n",
      "[10, 20, 30, 40]\n"
     ]
    }
   ],
   "source": [
    "# Python Sequence Type : Tuple\n",
    "# list와 거의 유사\n",
    "# 표현 방법이 달라요!. 수정, 삭제가 불가능.\n",
    "# 리스트는 : [], 튜플 : ()\n",
    "a = ()\n",
    "a = (1,2,3) # [1,2,3]\n",
    "a = (1,) # [1]\n",
    "        # 요소가 1개 있을 떄 tuple을 표현하려면\n",
    "        # a = (1,) # 이렇게 ,를찍어서 tuple인걸 명시해줘야함\n",
    "a =(1,2,3,4) # tuple\n",
    "             # tuple은 ()를 생략할 수 있어요!\n",
    "    \n",
    "a = 1,2,3,4\n",
    "a,b,c = 10, 20, 30 # (a,b,c) = (10,20,30)\n",
    "print(a)\n",
    "\n",
    "# indexing과 slicing 둘 다 사용을 할 수 있어요!\n",
    "a =(1,2,3,4)\n",
    "print(a[1]) # 2출력\n",
    "\n",
    "print(a[2:4]) # (3,4)\n",
    "\n",
    "# list와 마찬가지로 +,* 연산이 가능\n",
    "a=(1,2,3)\n",
    "b=(5,6,7)\n",
    "print(a + b)\n",
    "\n",
    "# list와 tuple간의 변환\n",
    "my_list = [1,2,3]\n",
    "my_tuple = tuple(my_list)\n",
    "print(my_tuple)\n",
    "\n",
    "my_tuple = 10,20,30,40\n",
    "my_list = list(my_tuple)\n",
    "print(my_list)\n"
   ]
  },
  {
   "cell_type": "code",
   "execution_count": 10,
   "metadata": {
    "scrolled": true
   },
   "outputs": [
    {
     "name": "stdout",
     "output_type": "stream",
     "text": [
      "range(0, 10)\n",
      "False\n",
      "19\n",
      "range(10, 16, 3)\n",
      "10\n",
      "12\n",
      "14\n",
      "16\n",
      "18\n",
      "<class 'int'>\n"
     ]
    }
   ],
   "source": [
    "# Python Sequence Type : range\n",
    "# range는 숫자 sequnece로 주로 for 문에서 사용\n",
    "\n",
    "# ragne의 인자가 1개이면 0부터 시작, 1씩 증가\n",
    "my_range = range(10) # range(10,20)\n",
    "print(my_range)\n",
    "\n",
    "# range의 인자가 3개이면 시작,끝,증감을 의미\n",
    "my_range = range(10,20,3)\n",
    "\n",
    "print(12 in my_range)\n",
    "\n",
    "# range도 list나 tuple처럼 indexing과 slicing이 가능\n",
    "my_range = range(10,20,3)\n",
    "print(my_range[-1])\n",
    "print(my_range[:2])\n",
    "\n",
    "#range를 이용한 for문\n",
    "for tmp in range(10,20,2):\n",
    "    print(tmp)\n",
    "\n",
    "print(type(tmp))\n",
    "    "
   ]
  },
  {
   "cell_type": "code",
   "execution_count": 9,
   "metadata": {},
   "outputs": [
    {
     "name": "stdout",
     "output_type": "stream",
     "text": [
      "<class 'dict'>\n",
      "{'name': '홍길동', 'age': 30, 100: '홍길동'}\n",
      "{'name': '홍길동', 100: '홍길동'}\n",
      "dict_keys(['name', 'age', 'address'])\n",
      "name, 홍길동\n",
      "age, 30\n",
      "address, 서울\n"
     ]
    }
   ],
   "source": [
    "#Python mapping Type : dict\n",
    "\n",
    "# 표현법은 JSON표현과 유사\n",
    "# {\"name\" : \"홍길동\", \"age\" :30}\n",
    "my_dict = {\"name\" : \"홍길동\", \"age\" : 30}\n",
    "print(type(my_dict))\n",
    "\n",
    "# 특정 key:value를 추가할 경우\n",
    "my_dict[100] = \"홍길동\" # 100이라는 키값에 대입\n",
    "print(my_dict)\n",
    "\n",
    "# 특정 key를 삭제할 경우\n",
    "del my_dict[\"age\"]\n",
    "print(my_dict)\n",
    "\n",
    "# key값이 중복되는 경우\n",
    "my_dict = {\"name\" : '홍길동', \"age\" :30, \"age\" : 40}\n",
    "\n",
    "# keys()\n",
    "my_dict = {\"name\" : '홍길동', \"age\" :30, \"address\" : \"서울\"}\n",
    "\n",
    "print(my_dict.keys())\n",
    "# 리턴값은 key값들의 리스트처럼 생긴 객체\n",
    "# list와 유사하지만 list의 함수는 사용할 수 없어요!\n",
    "# values() : dict의 value값들만 뽑아내요!\n",
    "# items() : (key.value)의 행태로 구성된 리스트처럼 생긴 객체를 리턴\n",
    "\n",
    "my_dict = {\"name\" : '홍길동', \"age\" :30, \"address\" : \"서울\"}\n",
    "# for문을 이용하여 모든  key와 그에 대한 value값을 출력\n",
    "for key in my_dict.keys():\n",
    "    print(\"{0}, {1}\" .format(key, my_dict[key]))\n"
   ]
  },
  {
   "cell_type": "code",
   "execution_count": 8,
   "metadata": {},
   "outputs": [
    {
     "name": "stdout",
     "output_type": "stream",
     "text": [
      "{1, 2, 3}\n",
      "{'o', 'e', 'H', 'l'}\n",
      "{4, 5}\n",
      "{1, 2, 3, 4, 5, 6, 7, 8}\n",
      "{1, 2, 3}\n",
      "{2, 3, 4, 5, 7, 8, 9, 10}\n"
     ]
    }
   ],
   "source": [
    "# Python set Type : set\n",
    "# set의 가장 큰 특징 : 중복이 없는 저장장소, 순서가 없는 저장구조\n",
    "\n",
    "my_set = set([1,2,3]) # set 생성 => {1,2,3}\n",
    "print(my_set)\n",
    "my_set = set(\"Hello\") # {\"H\", \"e\", \"l\", \"o\"}\n",
    "print(my_set)\n",
    "\n",
    "# 기본적인 set 연산(교집합, 합집합, 차집합)\n",
    "s1 = {1,2,3,4,5}\n",
    "s2 = {4,5,6,7,8}\n",
    "\n",
    "print(s1 & s2) # 교집합(intersection)\n",
    "print(s1 | s2) # 합집합(union)\n",
    "print(s1 - s2) # 차집합(defferences)\n",
    "\n",
    "# 기타 사용가능한 method\n",
    "my_set = {1,2,3,4,5}\n",
    "# set에 새로운 요소를 추가하려면\n",
    "my_set.add(10)\n",
    "# set에 여러개 추가하려면\n",
    "my_set.update([7,8,9])\n",
    "# set에서 삭제할 경우\n",
    "my_set.remove(1)\n",
    "\n",
    "print(my_set)"
   ]
  },
  {
   "cell_type": "code",
   "execution_count": null,
   "metadata": {},
   "outputs": [],
   "source": [
    "# Python Data type - bool\n",
    "# 논리 상수인 True, False를 사용\n",
    "# 다음과 같은 경우는 False로 간주\n",
    "# 1. 빈 문자열은 논리연산시 False(\"\")\n",
    "# 2.빈리스트([]), 빈튜플(()), 빈딕셔너리({})\n",
    "# 3. 숫자 0 False간주, 나머지 다르숫자 True간주\n",
    "# 4. None = False간주"
   ]
  },
  {
   "cell_type": "code",
   "execution_count": 13,
   "metadata": {},
   "outputs": [
    {
     "name": "stdout",
     "output_type": "stream",
     "text": [
      "숫자를입력하세요10\n",
      "30\n"
     ]
    }
   ],
   "source": [
    "# Python의 console 입출력\n",
    "input_value = input(\"숫자를입력하세요\")\n",
    "#입력받은 값은 무조건 문자열.\n",
    "result = input_value\n",
    "print(eval(result)*3)\n"
   ]
  },
  {
   "cell_type": "code",
   "execution_count": 1,
   "metadata": {},
   "outputs": [
    {
     "name": "stdout",
     "output_type": "stream",
     "text": [
      "부산\n"
     ]
    }
   ],
   "source": [
    "area = [\"seoul\",\"suwon\",\"pusan\"]\n",
    "\n",
    "# if문\n",
    "if \"suwon111\" in area:\n",
    "    # 수행할 코드를 작성\n",
    "    pass\n",
    "elif \"pusan\" in area:\n",
    "    print(\"부산\")\n",
    "else:\n",
    "    print(\"마지막입니다.!\")\n"
   ]
  },
  {
   "cell_type": "code",
   "execution_count": 14,
   "metadata": {},
   "outputs": [
    {
     "name": "stdout",
     "output_type": "stream",
     "text": [
      "오늘의 날짜 :2019-07-02\n",
      "연도 : 2019, 월 : 7, 일 : 2\n",
      "2019-07-02 09:22:39.269480\n"
     ]
    }
   ],
   "source": [
    "# python data type - 날짜(date, time, datetime)\n",
    "from datetime import date, time, datetime\n",
    "\n",
    "# 현재 날짜를 알아보아요!\n",
    "today = date.today()\n",
    "print(\"오늘의 날짜 :\" + str(today))\n",
    "\n",
    "print(\"연도 : {0}, 월 : {1}, 일 : {2}\" .format(today.year, today.month, today.day) )\n",
    "today = datetime.today()\n",
    "print(today)"
   ]
  },
  {
   "cell_type": "code",
   "execution_count": 34,
   "metadata": {},
   "outputs": [
    {
     "name": "stdout",
     "output_type": "stream",
     "text": [
      "2019-05-02\n",
      "2019-07-02 06:38:23.788006\n"
     ]
    }
   ],
   "source": [
    "# 날짜 연산\n",
    "from datetime import date, time, datetime, timedelta\n",
    "from dateutil.relativedelta import relativedelta\n",
    "# from 패키지 import 모듈\n",
    "\n",
    "\n",
    "# 년 과 월은 안되요. \n",
    "\n",
    "today = date.today() # 오늘 날짜를 구해요!\n",
    "#days = timedelta(days=-100) # -1 : 하루전\n",
    "#days = timedelta(month=-2) # year, month는 사용할 수 없어요!!! timedelta에서는!\n",
    "days = relativedelta(months=-2) # \n",
    "print(today + days)\n",
    "\n",
    "today = datetime.today() # 오늘날짜와 현재시간을 구해요\n",
    "delta = timedelta(hours=-3)\n",
    "print(today + delta)"
   ]
  },
  {
   "cell_type": "code",
   "execution_count": 40,
   "metadata": {},
   "outputs": [
    {
     "name": "stdout",
     "output_type": "stream",
     "text": [
      "tmp :0,tmp :1,tmp :2,tmp :3,tmp :4,tmp :5,tmp :6,tmp :7,tmp :8,tmp :9,"
     ]
    }
   ],
   "source": [
    "# print문 사용\n",
    "for tmp in range(10):\n",
    "    print(\"tmp :{}\" .format(tmp), end=\",\")\n",
    "    \n",
    "# print함수는 기본적으로 출력한다음 한줄을 넘어가요\n",
    "# print함수의 마지막 인자로 출력에 대한 제어를 할 수 있어"
   ]
  },
  {
   "cell_type": "code",
   "execution_count": 54,
   "metadata": {},
   "outputs": [
    {
     "name": "stdout",
     "output_type": "stream",
     "text": [
      "합계 : 15\n",
      "[2, 4, 6, 8, 10]\n",
      "[4, 8]\n"
     ]
    }
   ],
   "source": [
    "# for 구문\n",
    "my_list = [1,2,3,4,5]\n",
    "my_sum = 0\n",
    "\n",
    "# for tmp in my_list:\n",
    "#     my_sum += tmp\n",
    "\n",
    "for tmp in range(len(my_list)):\n",
    "    my_sum += my_list[tmp]\n",
    "    \n",
    "print(\"합계 : {}\" .format(my_sum))\n",
    "\n",
    "my_list = [1,2,3,4,5]\n",
    "new_list = [tmp * 2 for tmp in my_list]\n",
    "print(new_list)\n",
    "\n",
    "my_list = [1,2,3,4,5]\n",
    "new_list = [tmp * 2 for tmp in my_list if tmp % 2==0]\n",
    "print(new_list)"
   ]
  },
  {
   "cell_type": "code",
   "execution_count": 81,
   "metadata": {},
   "outputs": [
    {
     "name": "stdout",
     "output_type": "stream",
     "text": [
      "True\n",
      "True\n",
      "11\n",
      "['a', 'b', 'c', 'd', 'e', 'f', 'g']\n",
      "idx : 0, item : 1\n",
      "idx : 1, item : 2\n",
      "idx : 2, item : 3\n",
      "idx : 3, item : 4\n",
      "idx : 4, item : 5\n",
      "idx : 5, item : 100\n",
      "idx : 6, item : 96\n",
      "[2, 3, 5, 7, 8, 9]\n",
      "[2, 3, 5, 7, 8, 9]\n",
      "60\n",
      "여기\n",
      "150\n",
      "30 200\n"
     ]
    }
   ],
   "source": [
    "# python의 기본 자료구조(자료형)\n",
    "# python 제어문(if, for)\n",
    "# 함수\n",
    "\n",
    "#python의 함수는 2가지 종류가 있어요!\n",
    "# 1.사용자 정의 함수\n",
    "# 2. 내장 함수\n",
    "\n",
    "# 내장함수의 종류\n",
    "# len() : 개수를 알려줘요!\n",
    "# abs() : 숫자에 대한 절대값을 알려줘요!\n",
    "# all() : 반복가능한 자료형에 대해서 모두가 참이면 True\n",
    "my_list = [1,2,True,\"Hello\"]\n",
    "print(all(my_list)) # 모두 true면 true\n",
    "\n",
    "# any() : 반복가능한 자료형에 대해서 단 한개라도 참이면 True\n",
    "print(any(my_list))\n",
    "\n",
    "# eval() : 수치연산에 대한 문자열을 입력받아서 수치연산을 수행\n",
    "print(eval(\"3+4*2\"))\n",
    "\n",
    "# int() : 정수로 변환, list() : 리스트로 변환\n",
    "# tuple() : tuple로 변환, str() : 문자열로 변환\n",
    "string = 'abcdefg'\n",
    "print(list(string))\n",
    "\n",
    "my_list = [1,2,3,4,5,100,96]\n",
    "\n",
    "for idx,item in enumerate(my_list): # 튜플 만들어주는?\n",
    "    print(\"idx : {0}, item : {1}\" .format(idx, item))\n",
    "\n",
    "# 정렬에 대한 내장 함수\n",
    "# 정렬에 대한 method\n",
    "my_list = [7,3,9,2,8,5] # 정렬이 안된 리스트를 준비\n",
    "my_list.sort() #instance의 method를 호출\n",
    "               # instance를 제어하고 return : None\n",
    "               # result = my_list.sort() 이렇게 쓰지 말 것!!!!!!\n",
    "                                                                    # 이거는 원본이 바뀌고\n",
    "\n",
    "print(my_list)\n",
    "\n",
    "my_list = [7,3,9,2,8,5] # 정렬이 안된 리스트를 준비\n",
    "result = sorted(my_list)                                         \n",
    "                                                                    # 이거는 원본 안바뀜\n",
    "print(result)\n",
    "\n",
    "\n",
    "# 사용자 정의 함수를 만들어 보아요!!\n",
    "def my_sum(a,b,c):\n",
    "    return a+b+c\n",
    "\n",
    "result = my_sum(10,20,30)\n",
    "print(result)\n",
    "print(\"여기\")\n",
    "# 만약에 인자의 갯수를 알지 못하는 경우라면 ?\n",
    "# 입력인자를 tuple형태로 받아요!\n",
    "def my_sum_1(*args):\n",
    "    result=0\n",
    "    for tmp in args:\n",
    "        result += tmp\n",
    "    return result\n",
    "\n",
    "result = my_sum_1(10,20,30,40,50)\n",
    "print(result)\n",
    "\n",
    "# 파이썬은 함수의 리턴값이 2개 이상일 수 있어요! (X) 그냥그렇게 보이는거~~\n",
    "def my_func(a,b):\n",
    "    result1 = a+b\n",
    "    result2 = a*b\n",
    "    return result1, result2\n",
    "\n",
    "res1, res2 = my_func(10,20)\n",
    "print(res1,res2)"
   ]
  },
  {
   "cell_type": "code",
   "execution_count": 84,
   "metadata": {},
   "outputs": [
    {
     "name": "stdout",
     "output_type": "stream",
     "text": [
      "103\n"
     ]
    }
   ],
   "source": [
    "# 사용자 정의 함수의 scope\n",
    "# 전역변수(global variable)와 지역변수(local variable)\n",
    "tmp = 100\n",
    "\n",
    "def my_func(x):\n",
    "    # tmp # 지역변수\n",
    "    global tmp\n",
    "    tmp += x # 전역변수를 지칭 # 전체에서 찾는다 tmp를!!\n",
    "    return tmp\n",
    "\n",
    "print(my_func(3))"
   ]
  },
  {
   "cell_type": "code",
   "execution_count": 91,
   "metadata": {},
   "outputs": [
    {
     "name": "stdout",
     "output_type": "stream",
     "text": [
      "국적 : 한국, 이름 : 홍길동\n"
     ]
    }
   ],
   "source": [
    "## Python의 객체지향\n",
    "## class정의하고 사용해 보아요!\n",
    "\n",
    "# class : \n",
    "# 1. 현실세계의 개체를 프로그래밍적으로 모델링하기 위해서 사용하는 수단\n",
    "#  => 객체 모델링의 수단\n",
    "# 2.새로운 데이터 타입을 만드는 수단\n",
    "#  => \n",
    "\n",
    "class Student:\n",
    "    # property(field)\n",
    "    s_nation = \"국적\" # class variable\n",
    "    # Constructor\n",
    "    def __init__(self,n,nation):\n",
    "        Student.s_nation = nation # class variable\n",
    "        self.s_name = n # instance variable\n",
    "    # method\n",
    "    def display(self):\n",
    "        print(\"국적 : {0}, 이름 : {1}\" .format(self.s_nation, self.s_name))\n",
    "        \n",
    "# instance생성\n",
    "stu1 = Student(\"홍길동\",\"한국\")\n",
    "stu1.display()\n",
    "        "
   ]
  },
  {
   "cell_type": "code",
   "execution_count": 95,
   "metadata": {},
   "outputs": [
    {
     "name": "stdout",
     "output_type": "stream",
     "text": [
      "40\n"
     ]
    }
   ],
   "source": [
    "## python - Module\n",
    "## Module : 함수, 변수, class를 모아놓은 파일\n",
    "## 다른 python 프로그램에서 불러와 사용할 수 있도록\n",
    "## 만들어진 python 파일을 지칭\n",
    "## Module을 만들면 이놈을 불러다가 사용해야 해요.\n",
    "## 이때 사용하는 keyword가 import\n",
    "\n",
    "# import my_module as m1\n",
    "# print(m1.my_sum(10,20))\n",
    "\n",
    "from my_module import my_sum\n",
    "print(my_sum(10,30))\n",
    "\n",
    "\n"
   ]
  }
 ],
 "metadata": {
  "kernelspec": {
   "display_name": "Python [conda env:cpu_env] *",
   "language": "python",
   "name": "conda-env-cpu_env-py"
  },
  "language_info": {
   "codemirror_mode": {
    "name": "ipython",
    "version": 3
   },
   "file_extension": ".py",
   "mimetype": "text/x-python",
   "name": "python",
   "nbconvert_exporter": "python",
   "pygments_lexer": "ipython3",
   "version": "3.6.8"
  }
 },
 "nbformat": 4,
 "nbformat_minor": 2
}
