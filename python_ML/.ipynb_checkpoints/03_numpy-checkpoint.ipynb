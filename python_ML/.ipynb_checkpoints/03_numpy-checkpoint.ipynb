{
 "cells": [
  {
   "cell_type": "code",
   "execution_count": 1,
   "metadata": {},
   "outputs": [],
   "source": [
    "## Numpy\n",
    "## Numeric Python\n",
    "## Vector, Matrix연산에 상당한 편의성을 제공\n",
    "## Numpy는 그 자체로 의미가 있다기보는\n",
    "## 다른 module의 기본 자료구조로 이용\n",
    "## pandas와 matplotlib의 기본 자료구조로 이용\n",
    "\n",
    "## Numpy의 자료구조\n",
    "## 다차원 배열을 이용(n-dimension) => ndarray\n",
    "## ndarray는 pthon의 list와 상당히 유사\n",
    "## 주요 차이점은 ndarray는 같은 데이터 타입을 사용\n",
    "## list보다는 메모리 사용이나 속도면에서 상당히 좋아요!\n",
    "\n",
    "import numpy as np"
   ]
  },
  {
   "cell_type": "code",
   "execution_count": 10,
   "metadata": {},
   "outputs": [
    {
     "name": "stdout",
     "output_type": "stream",
     "text": [
      "[1, 2, 3, 4]\n",
      "<class 'list'>\n",
      "1\n",
      "<class 'int'>\n",
      "[1 2 3 4]\n",
      "<class 'numpy.ndarray'>\n",
      "1\n",
      "<class 'numpy.int32'>\n",
      "int32\n",
      "['100' '3.14' 'Hello' 'True']\n",
      "<U32\n"
     ]
    }
   ],
   "source": [
    "import numpy as np\n",
    "\n",
    "#list를 만들어 보아요!\n",
    "my_list = [1,2,3,4]\n",
    "print(my_list)\n",
    "print(type(my_list))\n",
    "print(my_list[0])\n",
    "print(type(my_list[0]))\n",
    "\n",
    "# numpy array를 만들어 보아요!\n",
    "my_arr =np.array([1,2,3,4])\n",
    "print(my_arr)\n",
    "print(type(my_arr))\n",
    "print(my_arr[0])\n",
    "print(type(my_arr[0]))\n",
    "print(my_arr.dtype)\n",
    "\n",
    "# 두번째 numpy array를 만들어 보아요!\n",
    "my_arr = np.array([100, 3.14, \"Hello\", True])\n",
    "print(my_arr)\n",
    "print(my_arr.dtype)"
   ]
  },
  {
   "cell_type": "code",
   "execution_count": 19,
   "metadata": {},
   "outputs": [
    {
     "name": "stdout",
     "output_type": "stream",
     "text": [
      "[[1, 2, 3], [4, 5, 6]]\n",
      "[[1. 2. 3.]\n",
      " [4. 5. 6.]]\n",
      "5\n",
      "5.0\n"
     ]
    }
   ],
   "source": [
    "import numpy as np\n",
    "\n",
    "# ndarray생성시 데이터 타입을 명시해서 생성할 수 있어요\n",
    "my_list = [[1,2,3],[4,5,6]]\n",
    "arr = np.array(my_list, dtype=np.float64)\n",
    "\n",
    "print(my_list)\n",
    "print(arr)\n",
    "\n",
    "# matrix를 access하는 방법\n",
    "# list[1] 안의 1번 인덱스\n",
    "print(my_list[1][1])\n",
    "# Matrix 형태를 access하는 방법 : 1행 1열\n",
    "print(arr[1,1])\n",
    "\n"
   ]
  },
  {
   "cell_type": "code",
   "execution_count": 259,
   "metadata": {},
   "outputs": [
    {
     "name": "stdout",
     "output_type": "stream",
     "text": [
      "1\n",
      "(4,)\n",
      "4\n",
      "[1 2 3 4]\n",
      "===\n",
      "[[1, 2], [3, 4], [5, 6]]\n",
      "[[1 2]\n",
      " [3 4]\n",
      " [5 6]]\n",
      "2\n",
      "(3, 2)\n",
      "6\n",
      "2\n"
     ]
    }
   ],
   "source": [
    "import numpy as np\n",
    "\n",
    "my_list = [1,2,3,4]\n",
    "arr = np.array(my_list) # 1차원의 numpy array가 생성 => 일반적으로 1차원 형태를 vector\n",
    "print(arr.ndim) # numpy array의 차원을 알려줘요\n",
    "print(arr.shape) # numpy array의 형태를 tuple로 표현\n",
    "print(arr.size) # numpy array안의 요소 개수\n",
    "print(arr)\n",
    "print(\"===\")\n",
    "my_list = [[1,2],[3,4],[5,6]]\n",
    "arr = np.array(my_list) # 2차원의 numpy array가 생성 => 2차원 형태를 matrix 라고해요~\n",
    "print(my_list)\n",
    "print(arr)\n",
    "print(arr.ndim)\n",
    "print(arr.shape)\n",
    "print(arr.size)\n",
    "print(len(arr[0])) # size와 비교해서 알아두세요!!\n"
   ]
  },
  {
   "cell_type": "code",
   "execution_count": 262,
   "metadata": {},
   "outputs": [
    {
     "name": "stdout",
     "output_type": "stream",
     "text": [
      "[[ 1  2  3]\n",
      " [ 4  5  6]\n",
      " [ 7  8  9]\n",
      " [10 11 12]]\n",
      "(4, 3)\n",
      "----------------------------------------\n",
      "[ 1  2  3  4  5  6  7  8  9 10 11 12]\n",
      "----------------------------------------\n",
      "[[[ 1  2  3]\n",
      "  [ 4  5  6]]\n",
      "\n",
      " [[ 7  8  9]\n",
      "  [10 11 12]]]\n"
     ]
    }
   ],
   "source": [
    "import numpy as np\n",
    "\n",
    "my_list = [[1,2,3],[4,5,6],[7,8,9],[10,11,12]]\n",
    "arr= np.array(my_list)\n",
    "print(arr)\n",
    "print(arr.shape) # (4,3)\n",
    "print(\"----------------------------------------\")\n",
    "# 형태의 변환이 자유롭다, shape만 바꿔주면 ~\n",
    "arr.shape = (12,) \n",
    "print(arr)\n",
    "print(\"----------------------------------------\")\n",
    "arr.shape = (2,2,3)\n",
    "print(arr)\n",
    "\n"
   ]
  },
  {
   "cell_type": "code",
   "execution_count": 74,
   "metadata": {},
   "outputs": [
    {
     "name": "stdout",
     "output_type": "stream",
     "text": [
      "[[ 1  2  3]\n",
      " [ 4  5  6]\n",
      " [ 7  8  9]\n",
      " [10 11 12]]\n",
      "=================\n",
      "[1 2 3]\n",
      "[4 5 6]\n",
      "[7 8 9]\n",
      "[10 11 12]\n",
      "=================\n",
      "5\n",
      " 1  2  3 \n",
      " 4  5  6 \n",
      " 7  8  9 \n",
      "10 11 12 \n",
      "=================\n",
      "4\n",
      "=================\n",
      "\n",
      "  1  2  3\n",
      "  4  5  6\n",
      "  7  8  9\n",
      " 10 11 12"
     ]
    }
   ],
   "source": [
    "import numpy as np\n",
    "\n",
    "my_list = [[1,2,3],[4,5,6],[7,8,9],[10,11,12]]\n",
    "arr= np.array(my_list)\n",
    "\n",
    "print(arr)\n",
    "# for문을 적절히 이용해서 numpy array안의 데이터를\n",
    "# 행렬형태로 출력하세요!\n",
    "# 1 2 3\n",
    "# 4 5 6\n",
    "# 7 8 9\n",
    "# 10 11 12\n",
    "print(\"=================\")\n",
    "for i in arr:\n",
    "    print(i)\n",
    "print(\"=================\")\n",
    "print(arr[1][1])\n",
    "    \n",
    "for row in arr:\n",
    "    for num in row:\n",
    "        print('%2d'%num, end= \" \")\n",
    "    print()\n",
    "print(\"=================\")\n",
    "print(arr.shape[0])\n",
    "print(\"=================\")\n",
    "for i in range(arr.shape[0]):\n",
    "    print()\n",
    "    for j in range(arr.shape[1]):\n",
    "        print(\"%3d\" %arr[i,j], end=\"\")"
   ]
  },
  {
   "cell_type": "code",
   "execution_count": 81,
   "metadata": {},
   "outputs": [
    {
     "name": "stdout",
     "output_type": "stream",
     "text": [
      "[ 1.2  3.4  5.5  7.9 10.3]\n",
      "float64\n",
      "int32\n",
      "[ 1  3  5  7 10]\n"
     ]
    }
   ],
   "source": [
    "import numpy as np\n",
    "\n",
    "arr = np.array([1.2,3.4,5.5,7.9,10.3])\n",
    "print(arr)\n",
    "print(arr.dtype)\n",
    "\n",
    "my_arr = arr.astype(np.int32)\n",
    "print(my_arr.dtype)\n",
    "print(my_arr)"
   ]
  },
  {
   "cell_type": "code",
   "execution_count": 96,
   "metadata": {},
   "outputs": [
    {
     "name": "stdout",
     "output_type": "stream",
     "text": [
      "[1 2 3 4 5]\n",
      "[[0. 0. 0. 0.]\n",
      " [0. 0. 0. 0.]\n",
      " [0. 0. 0. 0.]]\n",
      "[[1. 1. 1. 1. 1. 1. 1. 1. 1. 1. 1.]\n",
      " [1. 1. 1. 1. 1. 1. 1. 1. 1. 1. 1.]\n",
      " [1. 1. 1. 1. 1. 1. 1. 1. 1. 1. 1.]\n",
      " [1. 1. 1. 1. 1. 1. 1. 1. 1. 1. 1.]\n",
      " [1. 1. 1. 1. 1. 1. 1. 1. 1. 1. 1.]\n",
      " [1. 1. 1. 1. 1. 1. 1. 1. 1. 1. 1.]\n",
      " [1. 1. 1. 1. 1. 1. 1. 1. 1. 1. 1.]\n",
      " [1. 1. 1. 1. 1. 1. 1. 1. 1. 1. 1.]]\n",
      "[[2.184e-321 0.000e+000 0.000e+000]\n",
      " [0.000e+000 0.000e+000 0.000e+000]\n",
      " [0.000e+000 0.000e+000 0.000e+000]\n",
      " [0.000e+000 0.000e+000 0.000e+000]\n",
      " [0.000e+000 0.000e+000 0.000e+000]]\n",
      "[[9. 9. 9. 9.]\n",
      " [9. 9. 9. 9.]\n",
      " [9. 9. 9. 9.]]\n"
     ]
    }
   ],
   "source": [
    "#numpy array를 다양한 방식으로 만들어 보아요!\n",
    "import numpy as np\n",
    "\n",
    "arr = np.array([1,2,3,4,5]) # 일반적인 생성방법\n",
    "print(arr)\n",
    "\n",
    "arr = np.zeros((3,4)) # shape을 알려줘야 해요!\n",
    "print(arr)\n",
    "\n",
    "arr3 = np.ones((8,11)) # shape을 알려줘야 해요!\n",
    "print(arr3)\n",
    "\n",
    "arr3 = np.empty((5,3)) # shape을 알려줘야 해요!\n",
    "print(arr3)\n",
    "\n",
    "arr = np.full((3,4),9,dtype=np.float64)\n",
    "print(arr)"
   ]
  },
  {
   "cell_type": "code",
   "execution_count": 104,
   "metadata": {},
   "outputs": [
    {
     "name": "stdout",
     "output_type": "stream",
     "text": [
      "[0 2 4 6 8]\n",
      "[0 1 2 3 4 5 6 7 8 9]\n",
      "[1.3 2.3 3.3 4.3 5.3 6.3]\n"
     ]
    }
   ],
   "source": [
    "import numpy as np\n",
    "\n",
    "# arange의 인자로 (0,10,2)를 사용했는데\n",
    "# 0은 포함, 10은 포함하지않아요, 간격은 2\n",
    "arr = np.arange(0,10,2)\n",
    "print(arr)\n",
    "\n",
    "arr = np.arange(10)\n",
    "print(arr)\n",
    "\n",
    "arr = np.arange(1.3,7.2)\n",
    "print(arr)"
   ]
  },
  {
   "cell_type": "code",
   "execution_count": 126,
   "metadata": {},
   "outputs": [
    {
     "name": "stdout",
     "output_type": "stream",
     "text": [
      "[ 1.   1.9  2.8  3.7  4.6  5.5  6.4  7.3  8.2  9.1 10. ]\n"
     ]
    },
    {
     "data": {
      "image/png": "[encoded data removed]",
      "text/plain": [
       "<Figure size 432x288 with 1 Axes>"
      ]
     },
     "metadata": {
      "needs_background": "light"
     },
     "output_type": "display_data"
    }
   ],
   "source": [
    "import numpy as np\n",
    "import matplotlib.pyplot as plt\n",
    "\n",
    "# start부터 end까지 범위에서 주어진 num개의 간격으로\n",
    "# 데이터를 생성하고 싶을때\n",
    "\n",
    "arr = np.linspace(1,10,11)\n",
    "\n",
    "print(arr)\n",
    "plt.plot(arr,\"o\")\n",
    "plt.show()\n"
   ]
  },
  {
   "cell_type": "code",
   "execution_count": 142,
   "metadata": {},
   "outputs": [
    {
     "data": {
      "image/png": "[encoded data removed]",
      "text/plain": [
       "<Figure size 432x288 with 1 Axes>"
      ]
     },
     "metadata": {
      "needs_background": "light"
     },
     "output_type": "display_data"
    }
   ],
   "source": [
    "import numpy as np\n",
    "import matplotlib.pyplot as plt\n",
    "\n",
    "# numpy array를 만드는데 난수를 이용해서\n",
    "# numpy array를 만드려면 어떻게 해야 하나요?\n",
    "# 1. np.random.normal()\n",
    "# 정규분포를 이용한 난수를 발생시키고 이를 이용해서\n",
    "# numpy 배열을 생성\n",
    "# np.random.noraml(평균,표준편차,shape)\n",
    "my_mean = 100\n",
    "my_std = 10\n",
    "arr = np.random.normal(my_mean,my_std,(1000,)) # np.random.noraml(평균,표준편차,shape)\n",
    "plt.hist(arr,bins=10) # bins = 세로 바 몇개찍을꺼\n",
    "plt.show()\n"
   ]
  },
  {
   "cell_type": "code",
   "execution_count": 154,
   "metadata": {},
   "outputs": [
    {
     "data": {
      "image/png": "[encoded data removed]",
      "text/plain": [
       "<Figure size 432x288 with 1 Axes>"
      ]
     },
     "metadata": {
      "needs_background": "light"
     },
     "output_type": "display_data"
    }
   ],
   "source": [
    "import numpy as np\n",
    "import matplotlib.pyplot as plt\n",
    "# np.random.rand() : 균등 분포로 난수를 생성할때 사용\n",
    "# [0,1) [: 이상 ):미만\n",
    "arr = np.random.rand(1000)\n",
    "plt.hist(arr, bins=10)\n",
    "plt.show()"
   ]
  },
  {
   "cell_type": "code",
   "execution_count": 155,
   "metadata": {},
   "outputs": [
    {
     "data": {
      "image/png": "[encoded data removed]",
      "text/plain": [
       "<Figure size 432x288 with 1 Axes>"
      ]
     },
     "metadata": {
      "needs_background": "light"
     },
     "output_type": "display_data"
    }
   ],
   "source": [
    "import numpy as np\n",
    "import matplotlib.pyplot as plt\n",
    "# np.random.randn() : 표준정교분포에서 난수를 추출하여 numpy array를 만들때 사용\n",
    "# 표준 정규 분포 : 평균이 0 이고 표준편차가 1인 정규분포\n",
    "\n",
    "# [0,1) [: 이상 ):미만\n",
    "arr = np.random.randn(1000)\n",
    "plt.hist(arr, bins=10)\n",
    "plt.show()"
   ]
  },
  {
   "cell_type": "code",
   "execution_count": 157,
   "metadata": {},
   "outputs": [
    {
     "data": {
      "image/png": "[encoded data removed]",
      "text/plain": [
       "<Figure size 432x288 with 1 Axes>"
      ]
     },
     "metadata": {
      "needs_background": "light"
     },
     "output_type": "display_data"
    }
   ],
   "source": [
    "import numpy as np\n",
    "import matplotlib.pyplot as plt\n",
    "# np.random.randint() : 균등분포로 주어진 범위에서 정수형 난수를 발생\n",
    "\n",
    "arr = np.random.randint(-100,100,(1000,))\n",
    "plt.hist(arr, bins=10)\n",
    "plt.show()"
   ]
  },
  {
   "cell_type": "code",
   "execution_count": 183,
   "metadata": {},
   "outputs": [
    {
     "name": "stdout",
     "output_type": "stream",
     "text": [
      "[ 8  3  7 15 16]\n"
     ]
    }
   ],
   "source": [
    "import numpy as np\n",
    "\n",
    "np.random.seed(100) # 난수에 시드값 박아두기. 난수의 재연?\n",
    "arr = np.random.randint(0,20,(5,))\n",
    "print(arr)"
   ]
  },
  {
   "cell_type": "code",
   "execution_count": 190,
   "metadata": {},
   "outputs": [
    {
     "name": "stdout",
     "output_type": "stream",
     "text": [
      "(12,)\n",
      "[[ 0  1  2  3  4  5]\n",
      " [ 6  7  8  9 10 11]]\n",
      "[ 0  1  2  3  4  5  6  7  8  9 10 11]\n",
      "[[ 0  1  2]\n",
      " [ 3  4  5]\n",
      " [ 6  7  8]\n",
      " [ 9 10 11]]\n",
      "[100   1   2   3   4   5   6   7   8   9  10  11]\n",
      "[[100   1   2]\n",
      " [  3   4   5]\n",
      " [  6   7   8]\n",
      " [  9  10  11]]\n",
      "---------------------------\n",
      "[ 0  1  2  3  4  5  6  7  8  9 10 11]\n",
      "[[ 0  1  2]\n",
      " [ 3  4  5]\n",
      " [ 6  7  8]\n",
      " [ 9 10 11]]\n",
      "[100   1   2   3   4   5   6   7   8   9  10  11]\n",
      "[[ 0  1  2]\n",
      " [ 3  4  5]\n",
      " [ 6  7  8]\n",
      " [ 9 10 11]]\n"
     ]
    }
   ],
   "source": [
    "import numpy as np\n",
    "\n",
    "arr = np.arange(0,12,1)\n",
    "print(arr.shape)\n",
    "\n",
    "# numpy array의 shape을 변경하려면?\n",
    "arr.shape = (2,6)\n",
    "print(arr)\n",
    "# 위의 코드처럼 shape을 직접 변경해서 사용할 수 있지만\n",
    "# 이렇게 사용하는 경우는 거의 없어요. 다른 방법을 이용.\n",
    "\n",
    "arr = np.arange(0,12,1)\n",
    "arr_1 = arr.reshape(4,3) # 복사본이 아니라는걸 강조하시는듯\n",
    "# 새로운 numpy array View가 만들어져요.\n",
    "print(arr)\n",
    "print(arr_1) \n",
    "arr[0] = 100 # 오잉 arr[0] 값 바꾸니께 arr_1도 같이 바뀜 ㄷㄷ\n",
    "print(arr)\n",
    "print(arr_1)\n",
    "\n",
    "print(\"---------------------------\")\n",
    "arr = np.arange(0,12,1)\n",
    "arr_1 = arr.reshape(4,3).copy() # 애는 복사본 만들기. arr[0]값 바꿔도 복사본은 안바뀜\n",
    "# 새로운 numpy array View가 만들어져요.\n",
    "print(arr)\n",
    "print(arr_1)\n",
    "arr[0] = 100\n",
    "print(arr)\n",
    "print(arr_1)\n"
   ]
  },
  {
   "cell_type": "code",
   "execution_count": 208,
   "metadata": {},
   "outputs": [
    {
     "name": "stdout",
     "output_type": "stream",
     "text": [
      "[ 0  1  2  3  4  5  6  7  8  9 10 11]\n",
      "[[[ 0  1]\n",
      "  [ 2  3]]\n",
      "\n",
      " [[ 4  5]\n",
      "  [ 6  7]]\n",
      "\n",
      " [[ 8  9]\n",
      "  [10 11]]]\n",
      "[[ 0  1  2  3  4  5  6  7  8  9 10 11 12 13 14 15 16 17 18 19]\n",
      " [20 21 22 23 24 25 26 27 28 29 30 31 32 33 34 35 36 37 38 39]\n",
      " [40 41 42 43 44 45 46 47 48 49 50 51 52 53 54 55 56 57 58 59]\n",
      " [60 61 62 63 64 65 66 67 68 69 70 71 72 73 74 75 76 77 78 79]\n",
      " [80 81 82 83 84 85 86 87 88 89 90 91 92 93 94 95 96 97 98 99]]\n",
      "==============================\n",
      "[ 0  1  2  3  4  5  6  7  8  9 10 11 12 13 14 15 16 17 18 19 20 21 22 23\n",
      " 24 25 26 27 28 29 30 31 32 33 34 35 36 37 38 39 40 41 42 43 44 45 46 47\n",
      " 48 49 50 51 52 53 54 55 56 57 58 59 60 61 62 63 64 65 66 67 68 69 70 71\n",
      " 72 73 74 75 76 77 78 79 80 81 82 83 84 85 86 87 88 89 90 91 92 93 94 95\n",
      " 96 97 98 99]\n"
     ]
    }
   ],
   "source": [
    "import numpy as np\n",
    "\n",
    "arr = np.arange(0,12,1)\n",
    "print(arr)\n",
    "\n",
    "arr_1 = arr.reshape(3,2,-1) # -1 의 의미를 이해해 보아요\n",
    "                                # -1 : 행만 생각해라, 열은 고려하지말고(알아서 열 맞추겟다), 3개일경우 방,행 만써라 열은 알아서하겟다\n",
    "print(arr_1)\n",
    "\n",
    "# 5행 20열짜리 numpy가 array가 생성\n",
    "arr = np.arange(0,100,1).reshape(5,-1).copy()\n",
    "print(arr)\n",
    "# 다차원 배열을 1차원으로 바꿀려면 어떻게 하나요 ?\n",
    "# 새로운 numpy array가 만들어지는게 아니라 View생성\n",
    "print(\"==============================\")\n",
    "arr_1 = arr.ravel()\n",
    "print(arr_1)"
   ]
  },
  {
   "cell_type": "code",
   "execution_count": 212,
   "metadata": {},
   "outputs": [
    {
     "name": "stdout",
     "output_type": "stream",
     "text": [
      "[ 0  1  2  3  4  5  6  7  8  9 10 11]\n",
      "[[ 0  1  2  3  4  5]\n",
      " [ 6  7  8  9 10 11]]\n",
      "[100   1   2   3   4   5   6   7   8   9  10  11]\n",
      "[[ 0  1  2  3  4  5]\n",
      " [ 6  7  8  9 10 11]]\n"
     ]
    }
   ],
   "source": [
    "import numpy as np\n",
    "\n",
    "# resize()\n",
    "arr = np.arange(0,12,1)\n",
    "arr1 = np.resize(arr,(2,6))\n",
    "print(arr)\n",
    "print(arr1)\n",
    "arr[0] = 100\n",
    "print(arr)                          # resize와 reshape의 미묘한 차이 100안바뀜, (resize는 복사본이고 reshape는 view)\n",
    "print(arr1)"
   ]
  },
  {
   "cell_type": "code",
   "execution_count": 217,
   "metadata": {},
   "outputs": [
    {
     "name": "stdout",
     "output_type": "stream",
     "text": [
      "[10 11 12 13 14 15 16 17 18 19]\n",
      "index : 0, data : 10\n",
      "index : 1, data : 11\n",
      "index : 2, data : 12\n",
      "index : 3, data : 13\n",
      "index : 4, data : 14\n",
      "index : 5, data : 15\n",
      "index : 6, data : 16\n",
      "index : 7, data : 17\n",
      "index : 8, data : 18\n",
      "index : 9, data : 19\n",
      "[10 11 12]\n",
      "[100  11  12]\n"
     ]
    }
   ],
   "source": [
    "import numpy as np\n",
    "\n",
    "arr = np.arange(10,20,1)\n",
    "print(arr)\n",
    "for (idx, item) in enumerate(arr):\n",
    "    print(\"index : {0}, data : {1}\" .format(idx, item))\n",
    "    \n",
    "result = arr[0:3]\n",
    "print(result)\n",
    "arr[0] = 100\n",
    "print(result)"
   ]
  },
  {
   "cell_type": "code",
   "execution_count": 230,
   "metadata": {},
   "outputs": [
    {
     "name": "stdout",
     "output_type": "stream",
     "text": [
      "[ 0  1  2  3  4  5  6  7  8  9 10 11]\n",
      "[0 1 2]\n",
      "[ 0  2  4  6  8 10]\n",
      "[[ 0  1  2  3]\n",
      " [ 4  5  6  7]\n",
      " [ 8  9 10 11]\n",
      " [12 13 14 15]]\n",
      "6\n",
      "[4 5 6 7]\n",
      "[[3]\n",
      " [7]]\n"
     ]
    }
   ],
   "source": [
    "import numpy as np\n",
    "\n",
    "arr = np.arange(0,12,1)\n",
    "print(arr)\n",
    "\n",
    "arr_1 = arr[0:3]\n",
    "print(arr_1)\n",
    "\n",
    "arr_1 = arr[0::2] # 처음부터 끝까지가는데 2개씩 slicing 해\n",
    "print(arr_1)\n",
    "\n",
    "# 2차원 형태의 numpy array\n",
    "arr = np.arange(0,16,1).reshape(4,-1).copy()\n",
    "print(arr)\n",
    "print(arr[1,2]) # 6\n",
    "print(arr[1,:]) # [ 4 5 6 7 ]\n",
    "print(arr[:2,3:]) # \n"
   ]
  },
  {
   "cell_type": "code",
   "execution_count": 1,
   "metadata": {},
   "outputs": [
    {
     "name": "stdout",
     "output_type": "stream",
     "text": [
      "[9 4 0 1 9 0 1 8 9 0]\n",
      "[False  True  True False False  True False  True False  True]\n",
      "[4 0 0 8 0]\n"
     ]
    }
   ],
   "source": [
    "import numpy as np\n",
    "\n",
    "# boolean indexing\n",
    "# 정수형태의 랜덤값을 추출해서 1차원의 numpy array를 생성\n",
    "np.random.seed(10) # 랜덤값의 재연을 위해 시드값을 고정\n",
    "arr = np.random.randint(0,10,(10,))\n",
    "print(arr)\n",
    "# boolean mask를 만들어서 이를 이용해 indexing을 하는 기법\n",
    "print(arr % 2 == 0) # 마스크 ~? mask\n",
    "print(arr[arr % 2 == 0]) # true인 위치에 있는 애들만 뽑아내기 ( 여기선 짝수인 애들만 찾아내는 마스크겟군)"
   ]
  },
  {
   "cell_type": "code",
   "execution_count": 72,
   "metadata": {},
   "outputs": [
    {
     "name": "stdout",
     "output_type": "stream",
     "text": [
      "[0 1 2 3 4 5 6 7 8 9]\n",
      "0\n",
      "[0 1 2]\n",
      "[[1 2 3]\n",
      " [4 5 6]\n",
      " [7 8 9]]\n",
      "=====================\n",
      "[[9 4 0 1 9]\n",
      " [0 1 8 9 0]\n",
      " [8 6 4 3 0]\n",
      " [4 6 8 1 8]\n",
      " [4 1 3 6 5]]\n",
      "1\n",
      "[0 1 8 9 0]\n",
      "[0 1 8]\n",
      "[0 8 0]\n"
     ]
    }
   ],
   "source": [
    "import numpy as np\n",
    "\n",
    "# indexing\n",
    "# numpy array를 하나 생성해 보아요\n",
    "# python의 range와 같이 길이 특정 구간에 있는 연속적인\n",
    "# 데이터를 이용해서 numpy array를 만드는 경우\n",
    "arr = np.arange(0,10,1)\n",
    "print(arr)\n",
    "print(arr[0]) # indexing\n",
    "\n",
    "# slicing\n",
    "# python의 list에 대한 slicing은 특정 구간에 대한\n",
    "# numpy array의 slicing은 View를 생성\n",
    "# 원본과 데이터를 공유하고 shape이 다른 ndarray를 생성\n",
    "\n",
    "print(arr[0:3])\n",
    "\n",
    "# boolean indexing\n",
    "# boolean mask를 이용해서 indexing하는 방식\n",
    "arr = np.array([[1,2,3],[4,5,6],[7,8,9]])\n",
    "print(arr)\n",
    "\n",
    "# numpy array에 대해 수학적 연산(+,-,*,/,%...)을\n",
    "# 수행하려면 두 개의 numpy array가 같은 shape을 가져야 한다\n",
    "#arr_1 = np.array([[10,20,30],[40,50,60,],[70,80,90,]])\n",
    "# arr = np.array([10,20,30])\n",
    "# arr_1 = 5\n",
    "# print(arr + arr_1)\n",
    "# print(arr % 2 == 0) # boolean mask를 생성\n",
    "# print(arr[arr % 2 == 0]) # True로 되어있는 것들만 뽑아내기 - 여기선 짝수만뽑아내기\n",
    "\n",
    "# Fancy indexing\n",
    "# numpy array에 index배열을 이용해서 배열 요소를 참조하는 방법을 지칭\n",
    "# 랜덤값을 이용해서 numpy array를 생성\n",
    "# 정수형 난수를 생성\n",
    "print(\"=====================\")\n",
    "np.random.seed(10)\n",
    "arr = np.random.randint(0,10,(5,5)) # 앞은 포함, 뒤는 불포함 보통 inclusice exclusive\n",
    "print(arr)\n",
    "\n",
    "print(arr[1,1]) # 일반적인 indexing\n",
    "print(arr[1,:]) # 일반적인 indexing + slicing\n",
    "print(arr[1,:3])\n",
    "print(arr[1,[0,2,4]])"
   ]
  },
  {
   "cell_type": "code",
   "execution_count": 75,
   "metadata": {},
   "outputs": [
    {
     "name": "stdout",
     "output_type": "stream",
     "text": [
      "[[ 9 12 15]\n",
      " [19 26 33]\n",
      " [29 40 51]]\n"
     ]
    }
   ],
   "source": [
    "import numpy as np\n",
    "\n",
    "arr_1 = np.array([[1,2],[3,4],[5,6]])  # 3 x 2\n",
    "arr_2 = np.array([[1,2,3],[4,5,6]]) # 2 x 3\n",
    "print(np.matmul(arr_1,arr_2)) # 내적"
   ]
  },
  {
   "cell_type": "code",
   "execution_count": 42,
   "metadata": {},
   "outputs": [
    {
     "name": "stdout",
     "output_type": "stream",
     "text": [
      "[[5 0 3 3]\n",
      " [7 9 3 5]\n",
      " [2 4 7 6]]\n",
      "54\n",
      "4.5\n",
      "9\n",
      "0\n",
      "2.3979157616563596\n",
      "[[2.23606798 0.         1.73205081 1.73205081]\n",
      " [2.64575131 3.         1.73205081 2.23606798]\n",
      " [1.41421356 2.         2.64575131 2.44948974]]\n",
      "15\n",
      "78\n",
      "\n",
      "[[ 1  2  3]\n",
      " [ 4  5  6]\n",
      " [ 7  8  9]\n",
      " [10 11 12]]\n",
      "[22 26 30]\n",
      "[ 6 15 24 33]\n"
     ]
    }
   ],
   "source": [
    "# numpy array가 제공하는 함수\n",
    "import numpy as np\n",
    "\n",
    "np.random.seed(0)\n",
    "arr = np.random.randint(0,10,(3,4))\n",
    "print(arr)\n",
    "\n",
    "print(arr.sum()) # print(np.sum(arr)) 합계\n",
    "print(arr.mean()) # 평균\n",
    "print(arr.max()) # 최대값\n",
    "print(arr.min()) # 최소값\n",
    "print(arr.std()) # 표준편차\n",
    "print(np.sqrt(arr)) # 제곱근\n",
    "### 여기까지는 별로 어렵지 않아요 ! ####\n",
    "## 이런 함수를 사용할 때 축(axis)이라는 개념을 이용해서 사용해요##\n",
    "##위의 함수를 사용할때 axis를 명시하지 않으면 axis = None 으로 설정되요 ! => numpy array전체에 대해 함수를 적용\n",
    "arr1 = np.array([1,2,3,4,5])\n",
    "## 1차원의 numpy array가 생성, axis=0 => 열방향\n",
    "print(arr1.sum(axis=0)) # 15\n",
    "                                                     # 1차원에서 aixs 방향은 열방향\n",
    "arr = np.array([[1,2,3],[4,5,6],[7,8,9],[10,11,12]]) # 2차원에서 axis 방향은 행방향\n",
    "\n",
    "print(arr.sum(axis=None)) # None 걍안에꺼 싸그리 더해\n",
    "print()\n",
    "print(arr)\n",
    "\n",
    "                        # axis로 연산하려는 축을 정의해주는거\n",
    "print(arr.sum(axis=0)) # 행 방향으로 더해(세로로 1+4+7+10)\n",
    "print(arr.sum(axis=1)) # 열 방향으로 더해(가로로 1+2+3)\n"
   ]
  },
  {
   "cell_type": "code",
   "execution_count": 64,
   "metadata": {},
   "outputs": [],
   "source": [
    "## 집계함수의 처리속도(sum)\n",
    "import numpy as np\n",
    "\n",
    "arr = np.arange(1000000)"
   ]
  },
  {
   "cell_type": "code",
   "execution_count": 65,
   "metadata": {},
   "outputs": [
    {
     "name": "stderr",
     "output_type": "stream",
     "text": [
      "C:\\ProgramData\\Anaconda3\\envs\\cpu_env\\lib\\site-packages\\ipykernel_launcher.py:3: RuntimeWarning: overflow encountered in long_scalars\n",
      "  This is separate from the ipykernel package so we can avoid doing imports until\n"
     ]
    },
    {
     "name": "stdout",
     "output_type": "stream",
     "text": [
      "1783293664\n",
      "Wall time: 363 ms\n"
     ]
    }
   ],
   "source": [
    "%%time\n",
    "result = 0;\n",
    "for i in arr:\n",
    "    result += i\n",
    "print(result)"
   ]
  },
  {
   "cell_type": "code",
   "execution_count": 81,
   "metadata": {},
   "outputs": [
    {
     "name": "stdout",
     "output_type": "stream",
     "text": [
      "1783293664\n",
      "Wall time: 2 ms\n"
     ]
    }
   ],
   "source": [
    "%%time\n",
    "print(arr.sum())"
   ]
  },
  {
   "cell_type": "code",
   "execution_count": 83,
   "metadata": {},
   "outputs": [
    {
     "name": "stdout",
     "output_type": "stream",
     "text": [
      "[1 2 3]\n"
     ]
    }
   ],
   "source": [
    "arr = np.array([1,2,3,1,2,3,])\n",
    "print(np.unique(arr))"
   ]
  },
  {
   "cell_type": "code",
   "execution_count": 84,
   "metadata": {},
   "outputs": [],
   "source": [
    "## MovieLens 데이터 파일을 이용\n",
    "## Group Lens에서 수집한 영화에 대한 평점 데이터\n",
    "## 영화에 대한 선호도 1점~5점 까지로 표현\n",
    "## 데이터파일을 다운로드"
   ]
  },
  {
   "cell_type": "code",
   "execution_count": 89,
   "metadata": {},
   "outputs": [
    {
     "ename": "ValueError",
     "evalue": "could not convert string to float: 'userId'",
     "output_type": "error",
     "traceback": [
      "\u001b[1;31m---------------------------------------------------------------------------\u001b[0m",
      "\u001b[1;31mValueError\u001b[0m                                Traceback (most recent call last)",
      "\u001b[1;32m<ipython-input-89-da213ada32e4>\u001b[0m in \u001b[0;36m<module>\u001b[1;34m\u001b[0m\n\u001b[0;32m      3\u001b[0m \u001b[1;33m\u001b[0m\u001b[0m\n\u001b[0;32m      4\u001b[0m \u001b[1;31m# 1. 데이터 로딩(CSV파일로부터 데이터를 읽어들여요!)\u001b[0m\u001b[1;33m\u001b[0m\u001b[1;33m\u001b[0m\u001b[1;33m\u001b[0m\u001b[0m\n\u001b[1;32m----> 5\u001b[1;33m \u001b[0mdata\u001b[0m \u001b[1;33m=\u001b[0m \u001b[0mnp\u001b[0m\u001b[1;33m.\u001b[0m\u001b[0mloadtxt\u001b[0m\u001b[1;33m(\u001b[0m\u001b[1;34m\"data/movielens/ratings.csv\"\u001b[0m\u001b[1;33m,\u001b[0m \u001b[0mdelimiter\u001b[0m\u001b[1;33m=\u001b[0m\u001b[1;34m\",\"\u001b[0m\u001b[1;33m,\u001b[0m \u001b[0mdtype\u001b[0m\u001b[1;33m=\u001b[0m\u001b[0mnp\u001b[0m\u001b[1;33m.\u001b[0m\u001b[0mfloat64\u001b[0m\u001b[1;33m)\u001b[0m\u001b[1;33m\u001b[0m\u001b[1;33m\u001b[0m\u001b[0m\n\u001b[0m",
      "\u001b[1;32mC:\\ProgramData\\Anaconda3\\envs\\cpu_env\\lib\\site-packages\\numpy\\lib\\npyio.py\u001b[0m in \u001b[0;36mloadtxt\u001b[1;34m(fname, dtype, comments, delimiter, converters, skiprows, usecols, unpack, ndmin, encoding, max_rows)\u001b[0m\n\u001b[0;32m   1139\u001b[0m         \u001b[1;31m# converting the data\u001b[0m\u001b[1;33m\u001b[0m\u001b[1;33m\u001b[0m\u001b[1;33m\u001b[0m\u001b[0m\n\u001b[0;32m   1140\u001b[0m         \u001b[0mX\u001b[0m \u001b[1;33m=\u001b[0m \u001b[1;32mNone\u001b[0m\u001b[1;33m\u001b[0m\u001b[1;33m\u001b[0m\u001b[0m\n\u001b[1;32m-> 1141\u001b[1;33m         \u001b[1;32mfor\u001b[0m \u001b[0mx\u001b[0m \u001b[1;32min\u001b[0m \u001b[0mread_data\u001b[0m\u001b[1;33m(\u001b[0m\u001b[0m_loadtxt_chunksize\u001b[0m\u001b[1;33m)\u001b[0m\u001b[1;33m:\u001b[0m\u001b[1;33m\u001b[0m\u001b[1;33m\u001b[0m\u001b[0m\n\u001b[0m\u001b[0;32m   1142\u001b[0m             \u001b[1;32mif\u001b[0m \u001b[0mX\u001b[0m \u001b[1;32mis\u001b[0m \u001b[1;32mNone\u001b[0m\u001b[1;33m:\u001b[0m\u001b[1;33m\u001b[0m\u001b[1;33m\u001b[0m\u001b[0m\n\u001b[0;32m   1143\u001b[0m                 \u001b[0mX\u001b[0m \u001b[1;33m=\u001b[0m \u001b[0mnp\u001b[0m\u001b[1;33m.\u001b[0m\u001b[0marray\u001b[0m\u001b[1;33m(\u001b[0m\u001b[0mx\u001b[0m\u001b[1;33m,\u001b[0m \u001b[0mdtype\u001b[0m\u001b[1;33m)\u001b[0m\u001b[1;33m\u001b[0m\u001b[1;33m\u001b[0m\u001b[0m\n",
      "\u001b[1;32mC:\\ProgramData\\Anaconda3\\envs\\cpu_env\\lib\\site-packages\\numpy\\lib\\npyio.py\u001b[0m in \u001b[0;36mread_data\u001b[1;34m(chunk_size)\u001b[0m\n\u001b[0;32m   1066\u001b[0m \u001b[1;33m\u001b[0m\u001b[0m\n\u001b[0;32m   1067\u001b[0m             \u001b[1;31m# Convert each value according to its column and store\u001b[0m\u001b[1;33m\u001b[0m\u001b[1;33m\u001b[0m\u001b[1;33m\u001b[0m\u001b[0m\n\u001b[1;32m-> 1068\u001b[1;33m             \u001b[0mitems\u001b[0m \u001b[1;33m=\u001b[0m \u001b[1;33m[\u001b[0m\u001b[0mconv\u001b[0m\u001b[1;33m(\u001b[0m\u001b[0mval\u001b[0m\u001b[1;33m)\u001b[0m \u001b[1;32mfor\u001b[0m \u001b[1;33m(\u001b[0m\u001b[0mconv\u001b[0m\u001b[1;33m,\u001b[0m \u001b[0mval\u001b[0m\u001b[1;33m)\u001b[0m \u001b[1;32min\u001b[0m \u001b[0mzip\u001b[0m\u001b[1;33m(\u001b[0m\u001b[0mconverters\u001b[0m\u001b[1;33m,\u001b[0m \u001b[0mvals\u001b[0m\u001b[1;33m)\u001b[0m\u001b[1;33m]\u001b[0m\u001b[1;33m\u001b[0m\u001b[1;33m\u001b[0m\u001b[0m\n\u001b[0m\u001b[0;32m   1069\u001b[0m \u001b[1;33m\u001b[0m\u001b[0m\n\u001b[0;32m   1070\u001b[0m             \u001b[1;31m# Then pack it according to the dtype's nesting\u001b[0m\u001b[1;33m\u001b[0m\u001b[1;33m\u001b[0m\u001b[1;33m\u001b[0m\u001b[0m\n",
      "\u001b[1;32mC:\\ProgramData\\Anaconda3\\envs\\cpu_env\\lib\\site-packages\\numpy\\lib\\npyio.py\u001b[0m in \u001b[0;36m<listcomp>\u001b[1;34m(.0)\u001b[0m\n\u001b[0;32m   1066\u001b[0m \u001b[1;33m\u001b[0m\u001b[0m\n\u001b[0;32m   1067\u001b[0m             \u001b[1;31m# Convert each value according to its column and store\u001b[0m\u001b[1;33m\u001b[0m\u001b[1;33m\u001b[0m\u001b[1;33m\u001b[0m\u001b[0m\n\u001b[1;32m-> 1068\u001b[1;33m             \u001b[0mitems\u001b[0m \u001b[1;33m=\u001b[0m \u001b[1;33m[\u001b[0m\u001b[0mconv\u001b[0m\u001b[1;33m(\u001b[0m\u001b[0mval\u001b[0m\u001b[1;33m)\u001b[0m \u001b[1;32mfor\u001b[0m \u001b[1;33m(\u001b[0m\u001b[0mconv\u001b[0m\u001b[1;33m,\u001b[0m \u001b[0mval\u001b[0m\u001b[1;33m)\u001b[0m \u001b[1;32min\u001b[0m \u001b[0mzip\u001b[0m\u001b[1;33m(\u001b[0m\u001b[0mconverters\u001b[0m\u001b[1;33m,\u001b[0m \u001b[0mvals\u001b[0m\u001b[1;33m)\u001b[0m\u001b[1;33m]\u001b[0m\u001b[1;33m\u001b[0m\u001b[1;33m\u001b[0m\u001b[0m\n\u001b[0m\u001b[0;32m   1069\u001b[0m \u001b[1;33m\u001b[0m\u001b[0m\n\u001b[0;32m   1070\u001b[0m             \u001b[1;31m# Then pack it according to the dtype's nesting\u001b[0m\u001b[1;33m\u001b[0m\u001b[1;33m\u001b[0m\u001b[1;33m\u001b[0m\u001b[0m\n",
      "\u001b[1;32mC:\\ProgramData\\Anaconda3\\envs\\cpu_env\\lib\\site-packages\\numpy\\lib\\npyio.py\u001b[0m in \u001b[0;36mfloatconv\u001b[1;34m(x)\u001b[0m\n\u001b[0;32m    773\u001b[0m         \u001b[1;32mif\u001b[0m \u001b[1;34m'0x'\u001b[0m \u001b[1;32min\u001b[0m \u001b[0mx\u001b[0m\u001b[1;33m:\u001b[0m\u001b[1;33m\u001b[0m\u001b[1;33m\u001b[0m\u001b[0m\n\u001b[0;32m    774\u001b[0m             \u001b[1;32mreturn\u001b[0m \u001b[0mfloat\u001b[0m\u001b[1;33m.\u001b[0m\u001b[0mfromhex\u001b[0m\u001b[1;33m(\u001b[0m\u001b[0mx\u001b[0m\u001b[1;33m)\u001b[0m\u001b[1;33m\u001b[0m\u001b[1;33m\u001b[0m\u001b[0m\n\u001b[1;32m--> 775\u001b[1;33m         \u001b[1;32mreturn\u001b[0m \u001b[0mfloat\u001b[0m\u001b[1;33m(\u001b[0m\u001b[0mx\u001b[0m\u001b[1;33m)\u001b[0m\u001b[1;33m\u001b[0m\u001b[1;33m\u001b[0m\u001b[0m\n\u001b[0m\u001b[0;32m    776\u001b[0m \u001b[1;33m\u001b[0m\u001b[0m\n\u001b[0;32m    777\u001b[0m     \u001b[0mtyp\u001b[0m \u001b[1;33m=\u001b[0m \u001b[0mdtype\u001b[0m\u001b[1;33m.\u001b[0m\u001b[0mtype\u001b[0m\u001b[1;33m\u001b[0m\u001b[1;33m\u001b[0m\u001b[0m\n",
      "\u001b[1;31mValueError\u001b[0m: could not convert string to float: 'userId'"
     ]
    }
   ],
   "source": [
    "# Movielens Data 파일 분석\n",
    "import numpy as np\n",
    "\n",
    "# 1. 데이터 로딩(CSV파일로부터 데이터를 읽어들여요!)\n",
    "data = np.loadtxt(\"data/movielens/ratings.csv\", delimiter=\",\", dtype=np.float64)\n"
   ]
  }
 ],
 "metadata": {
  "kernelspec": {
   "display_name": "Python [conda env:cpu_env] *",
   "language": "python",
   "name": "conda-env-cpu_env-py"
  },
  "language_info": {
   "codemirror_mode": {
    "name": "ipython",
    "version": 3
   },
   "file_extension": ".py",
   "mimetype": "text/x-python",
   "name": "python",
   "nbconvert_exporter": "python",
   "pygments_lexer": "ipython3",
   "version": "3.6.8"
  }
 },
 "nbformat": 4,
 "nbformat_minor": 2
}
