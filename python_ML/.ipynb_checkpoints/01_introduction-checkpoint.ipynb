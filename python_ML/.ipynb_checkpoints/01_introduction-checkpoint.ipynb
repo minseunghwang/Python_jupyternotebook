{
 "cells": [
  {
   "cell_type": "code",
   "execution_count": null,
   "metadata": {},
   "outputs": [],
   "source": [
    "#### Introduction ####\n",
    "\n",
    "# python에서 1줄 주석은 => # 입니다\n",
    "# python에서 여러줄 주석은 => \"\"\" \"\"\"\n",
    "\"\"\"\n",
    "1. DATA : 측정이나 관찰을 통해서 모아놓은 값의 집합\n",
    "         사실을 표현하는 하나의 단면일 뿐 그 자체가\n",
    "         의미를 가지지는 않아요!\n",
    "2. 이런 데이터를 기반으로 의미있는 내용(사실)을\n",
    "    끌어내는 작업 => Data Analysis(데이터 분석)\n",
    "    \n",
    "3. Big Data의 일반적인 의미\n",
    "    => 기존의 관리체계, 분석체계로 감당할 수 없는 많은\n",
    "    양의 데이터를 의미\n",
    "    \n",
    "4. Big Data의 3가지 특징(3V)\n",
    "    => 1. 데이터의 규모(Volumn)\n",
    "        GB -> TV -> PB -> EB -> ZB -> YB\n",
    "       2. 데이터의 다양성(Variety)\n",
    "        비 정형화된 형태의 데이터로 구성\n",
    "       3. 데이터의 발생속도(Velocity)\n",
    "        데이터가 실시간적으로 발생된다는 특징\n",
    "\n",
    "5. Big Data의 분석방법\n",
    "    => 1. EDA(Explore Data Analysis) : 탐색적 데이터 분석\n",
    "       2. 통계적 가설 검정\n",
    "       3. 머신러닝 - 많은양의 데이터를 기반으로 프로그램을 학습시켜서 분석\n",
    "\n",
    "6. 왜 Python인가요?\n",
    "    => Data분석에 최적화 되어있어요.\n",
    "    상대적으로 배우기가 쉬워요!\n",
    "    인터렉티브한 개발이 용이\n",
    "    아주아주 강려한 무료의 라이브러리(Numpy, Pandas)\n",
    "    단점) 2.x 버젼과 3.x 버젼의 호환성이 없어요!\n",
    "    \n",
    "7. 가장 많이 사용되는 프로그래밍 언어\n",
    "    주력으로 사용되는 언어 하나는 반드시 있어야 해요!\n",
    "    1. Java\n",
    "    2. C\n",
    "    3. python\n",
    "    4. C++\n",
    "    5. JavaScript\n",
    "    6. .Net\n",
    "\n",
    "\"\"\"\n",
    "'\\n이 부분은 다 주석처리되요 \\n'"
   ]
  }
 ],
 "metadata": {
  "kernelspec": {
   "display_name": "Python [conda env:cpu_env] *",
   "language": "python",
   "name": "conda-env-cpu_env-py"
  },
  "language_info": {
   "codemirror_mode": {
    "name": "ipython",
    "version": 3
   },
   "file_extension": ".py",
   "mimetype": "text/x-python",
   "name": "python",
   "nbconvert_exporter": "python",
   "pygments_lexer": "ipython3",
   "version": "3.6.8"
  }
 },
 "nbformat": 4,
 "nbformat_minor": 2
}
