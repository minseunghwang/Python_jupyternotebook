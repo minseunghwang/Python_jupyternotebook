{
 "cells": [
  {
   "cell_type": "code",
   "execution_count": 2,
   "metadata": {},
   "outputs": [],
   "source": [
    "## 필요한 데이터 파일을 다운로드.\n",
    "## 2015년 Loan Data 다운로드 후 적잘한 위치에 저장.\n",
    "import numpy as np\n",
    "import pandas as pd"
   ]
  },
  {
   "cell_type": "code",
   "execution_count": 4,
   "metadata": {},
   "outputs": [],
   "source": [
    "## 1. Data Loading \n",
    "df = pd.read_csv(\"./data/loandata/LoanStats3d.csv\",\n",
    "                 sep=\",\"       # csv 파일은 기본적으로 , 으로 구분을 합니다. 근데만약에 컴마(,)가 아니면 sep= 해서 구분자를 정해줄수 있따\n",
    "                 ,skiprows=1 ) # skiprows=n // n개 행 건너뛰고부터 읽어!!! "
   ]
  },
  {
   "cell_type": "code",
   "execution_count": 21,
   "metadata": {},
   "outputs": [
    {
     "data": {
      "text/plain": [
       "[Index(['id', 'member_id', 'loan_amnt', 'funded_amnt', 'funded_amnt_inv',\n",
       "        'term', 'int_rate', 'installment', 'grade', 'sub_grade',\n",
       "        ...\n",
       "        'orig_projected_additional_accrued_interest',\n",
       "        'hardship_payoff_balance_amount', 'hardship_last_payment_amount',\n",
       "        'debt_settlement_flag', 'debt_settlement_flag_date',\n",
       "        'settlement_status', 'settlement_date', 'settlement_amount',\n",
       "        'settlement_percentage', 'settlement_term'],\n",
       "       dtype='object', length=144)]"
      ]
     },
     "metadata": {},
     "output_type": "display_data"
    }
   ],
   "source": [
    "## 총 데이터의 수 확인( 몇 건의 대출정보가 있는지 확인)\n",
    "# display(df.head())\n",
    "# display(df.shape)\n",
    "display(df.columns)"
   ]
  },
  {
   "cell_type": "code",
   "execution_count": 22,
   "metadata": {},
   "outputs": [
    {
     "data": {
      "text/html": [
       "<div>\n",
       "<style scoped>\n",
       "    .dataframe tbody tr th:only-of-type {\n",
       "        vertical-align: middle;\n",
       "    }\n",
       "\n",
       "    .dataframe tbody tr th {\n",
       "        vertical-align: top;\n",
       "    }\n",
       "\n",
       "    .dataframe thead th {\n",
       "        text-align: right;\n",
       "    }\n",
       "</style>\n",
       "<table border=\"1\" class=\"dataframe\">\n",
       "  <thead>\n",
       "    <tr style=\"text-align: right;\">\n",
       "      <th></th>\n",
       "      <th>loan_amnt</th>\n",
       "      <th>loan_status</th>\n",
       "      <th>grade</th>\n",
       "      <th>int_rate</th>\n",
       "      <th>term</th>\n",
       "    </tr>\n",
       "  </thead>\n",
       "  <tbody>\n",
       "    <tr>\n",
       "      <th>0</th>\n",
       "      <td>24700.0</td>\n",
       "      <td>Fully Paid</td>\n",
       "      <td>C</td>\n",
       "      <td>11.99%</td>\n",
       "      <td>36 months</td>\n",
       "    </tr>\n",
       "    <tr>\n",
       "      <th>1</th>\n",
       "      <td>10000.0</td>\n",
       "      <td>Fully Paid</td>\n",
       "      <td>C</td>\n",
       "      <td>12.88%</td>\n",
       "      <td>36 months</td>\n",
       "    </tr>\n",
       "    <tr>\n",
       "      <th>2</th>\n",
       "      <td>20000.0</td>\n",
       "      <td>Fully Paid</td>\n",
       "      <td>A</td>\n",
       "      <td>6.49%</td>\n",
       "      <td>36 months</td>\n",
       "    </tr>\n",
       "    <tr>\n",
       "      <th>3</th>\n",
       "      <td>20000.0</td>\n",
       "      <td>Fully Paid</td>\n",
       "      <td>A</td>\n",
       "      <td>5.32%</td>\n",
       "      <td>36 months</td>\n",
       "    </tr>\n",
       "    <tr>\n",
       "      <th>4</th>\n",
       "      <td>18000.0</td>\n",
       "      <td>Fully Paid</td>\n",
       "      <td>A</td>\n",
       "      <td>7.49%</td>\n",
       "      <td>36 months</td>\n",
       "    </tr>\n",
       "  </tbody>\n",
       "</table>\n",
       "</div>"
      ],
      "text/plain": [
       "   loan_amnt loan_status grade int_rate        term\n",
       "0    24700.0  Fully Paid     C   11.99%   36 months\n",
       "1    10000.0  Fully Paid     C   12.88%   36 months\n",
       "2    20000.0  Fully Paid     A    6.49%   36 months\n",
       "3    20000.0  Fully Paid     A    5.32%   36 months\n",
       "4    18000.0  Fully Paid     A    7.49%   36 months"
      ]
     },
     "execution_count": 22,
     "metadata": {},
     "output_type": "execute_result"
    }
   ],
   "source": [
    "## 필요한 column만 추출해서 새로운 DataFrame을 생성\n",
    "## loan_amnt : 대출금액\n",
    "## loan_status : 대출 상태\n",
    "## grade : 대출 등급\n",
    "## int_rate : 이자율\n",
    "## term : 대출기간\n",
    "df2 = df[[\"loan_amnt\",\"loan_status\",\"grade\",\"int_rate\",\"term\"]]\n",
    "df2.head()"
   ]
  },
  {
   "cell_type": "code",
   "execution_count": 39,
   "metadata": {},
   "outputs": [
    {
     "data": {
      "text/plain": [
       "array(['Fully Paid', 'Charged Off', 'Current', 'Late (31-120 days)',\n",
       "       'In Grace Period', 'Late (16-30 days)'], dtype=object)"
      ]
     },
     "metadata": {},
     "output_type": "display_data"
    },
    {
     "data": {
      "text/plain": [
       "array(['C', 'A', 'D', 'B', 'F', 'E', 'G'], dtype=object)"
      ]
     },
     "metadata": {},
     "output_type": "display_data"
    },
    {
     "data": {
      "text/plain": [
       "array([' 36 months', ' 60 months'], dtype=object)"
      ]
     },
     "metadata": {},
     "output_type": "display_data"
    },
    {
     "data": {
      "text/plain": [
       "(421095, 5)"
      ]
     },
     "metadata": {},
     "output_type": "display_data"
    },
    {
     "name": "stderr",
     "output_type": "stream",
     "text": [
      "C:\\ProgramData\\Anaconda3\\envs\\cpu_env\\lib\\site-packages\\ipykernel_launcher.py:7: SettingWithCopyWarning: \n",
      "A value is trying to be set on a copy of a slice from a DataFrame\n",
      "\n",
      "See the caveats in the documentation: http://pandas.pydata.org/pandas-docs/stable/indexing.html#indexing-view-versus-copy\n",
      "  import sys\n"
     ]
    },
    {
     "data": {
      "text/plain": [
       "(421095, 5)"
      ]
     },
     "metadata": {},
     "output_type": "display_data"
    }
   ],
   "source": [
    "## 각 컬럼의 값 확인\n",
    "display(df2[\"loan_status\"].unique())\n",
    "display(df2[\"grade\"].unique())\n",
    "display(df2[\"term\"].unique())\n",
    "## 결치값 제거\n",
    "display(df2.shape)\n",
    "df2.dropna(how=\"any\", inplace=True) # Nan이 있는 해당 행을 다 지우겠다 inplace : 날린다음에 원본 바꿀꺼\n",
    "display(df2.shape)"
   ]
  },
  {
   "cell_type": "code",
   "execution_count": 70,
   "metadata": {},
   "outputs": [
    {
     "name": "stdout",
     "output_type": "stream",
     "text": [
      "1,000,000,000\n"
     ]
    }
   ],
   "source": [
    "print(\"{:,}\" .format(1000000000)) # 뒤에있는거를 3자리마다 끊어서 출력해줍니다"
   ]
  },
  {
   "cell_type": "code",
   "execution_count": 102,
   "metadata": {},
   "outputs": [
    {
     "data": {
      "text/plain": [
       "array([' 36 months', ' 60 months'], dtype=object)"
      ]
     },
     "metadata": {},
     "output_type": "display_data"
    },
    {
     "name": "stdout",
     "output_type": "stream",
     "text": [
      "3626461100.0\n",
      " 36 months\n",
      "2791147075.0\n",
      " 60 months\n"
     ]
    }
   ],
   "source": [
    "## 대출기간별 대출 총액 구하기\n",
    "##\n",
    "display(df2[\"term\"].unique())\n",
    "for i in df2[\"term\"].unique():\n",
    "    print(df2.loc[df2[\"term\"]==i,\"loan_amnt\"].sum())\n",
    "    print(i)\n"
   ]
  },
  {
   "cell_type": "code",
   "execution_count": 85,
   "metadata": {},
   "outputs": [
    {
     "ename": "SyntaxError",
     "evalue": "invalid syntax (<ipython-input-85-97c8a3e51920>, line 8)",
     "output_type": "error",
     "traceback": [
      "\u001b[1;36m  File \u001b[1;32m\"<ipython-input-85-97c8a3e51920>\"\u001b[1;36m, line \u001b[1;32m8\u001b[0m\n\u001b[1;33m    term_result[t] = term_sum\u001b[0m\n\u001b[1;37m              ^\u001b[0m\n\u001b[1;31mSyntaxError\u001b[0m\u001b[1;31m:\u001b[0m invalid syntax\n"
     ]
    }
   ],
   "source": [
    "## 대출기간별 대출 총액 구하기\n",
    "## 강사님 ver\n",
    "\n",
    "terms = df2[\"term\"].unique()\n",
    "term_result = {}\n",
    "for t in terms:\n",
    "    term_sum = df2.loc[df2[\"term\"] == t, \"loan_amnt\".sum()\n",
    "    term_result[t] = term_sum\n",
    "    \n",
    "for key in term_result:\n",
    "    print(\"{}\",format(key),end=\" : \")\n",
    "    print(\"{}\" .format(\":,\") .format(term_result[key]))\n"
   ]
  },
  {
   "cell_type": "code",
   "execution_count": 106,
   "metadata": {},
   "outputs": [
    {
     "data": {
      "text/plain": [
       "array(['Fully Paid', 'Charged Off', 'Current', 'Late (31-120 days)',\n",
       "       'In Grace Period', 'Late (16-30 days)'], dtype=object)"
      ]
     },
     "metadata": {},
     "output_type": "display_data"
    },
    {
     "data": {
      "text/plain": [
       "array(['C', 'A', 'D', 'B', 'F', 'E', 'G'], dtype=object)"
      ]
     },
     "metadata": {},
     "output_type": "display_data"
    },
    {
     "data": {
      "text/plain": [
       "0          Fully Paid\n",
       "1          Fully Paid\n",
       "5         Charged Off\n",
       "6             Current\n",
       "8         Charged Off\n",
       "9             Current\n",
       "12         Fully Paid\n",
       "14        Charged Off\n",
       "22         Fully Paid\n",
       "28            Current\n",
       "31         Fully Paid\n",
       "34            Current\n",
       "37         Fully Paid\n",
       "38        Charged Off\n",
       "43            Current\n",
       "44        Charged Off\n",
       "50            Current\n",
       "53         Fully Paid\n",
       "56         Fully Paid\n",
       "57         Fully Paid\n",
       "58         Fully Paid\n",
       "63         Fully Paid\n",
       "64         Fully Paid\n",
       "66            Current\n",
       "69        Charged Off\n",
       "71         Fully Paid\n",
       "73        Charged Off\n",
       "85         Fully Paid\n",
       "87         Fully Paid\n",
       "88         Fully Paid\n",
       "             ...     \n",
       "420987    Charged Off\n",
       "420990    Charged Off\n",
       "420992     Fully Paid\n",
       "420993     Fully Paid\n",
       "420995     Fully Paid\n",
       "420997    Charged Off\n",
       "420998    Charged Off\n",
       "421004    Charged Off\n",
       "421005     Fully Paid\n",
       "421011     Fully Paid\n",
       "421028     Fully Paid\n",
       "421029     Fully Paid\n",
       "421030        Current\n",
       "421031    Charged Off\n",
       "421033     Fully Paid\n",
       "421035     Fully Paid\n",
       "421036        Current\n",
       "421038     Fully Paid\n",
       "421040     Fully Paid\n",
       "421041     Fully Paid\n",
       "421042     Fully Paid\n",
       "421046     Fully Paid\n",
       "421049     Fully Paid\n",
       "421053        Current\n",
       "421058    Charged Off\n",
       "421061     Fully Paid\n",
       "421062     Fully Paid\n",
       "421067     Fully Paid\n",
       "421081     Fully Paid\n",
       "421082     Fully Paid\n",
       "Name: loan_status, Length: 120567, dtype: object"
      ]
     },
     "metadata": {},
     "output_type": "display_data"
    },
    {
     "data": {
      "text/plain": [
       "2          Fully Paid\n",
       "3          Fully Paid\n",
       "4          Fully Paid\n",
       "15         Fully Paid\n",
       "17         Fully Paid\n",
       "23         Fully Paid\n",
       "24         Fully Paid\n",
       "36         Fully Paid\n",
       "45         Fully Paid\n",
       "52         Fully Paid\n",
       "61         Fully Paid\n",
       "65         Fully Paid\n",
       "72         Fully Paid\n",
       "77         Fully Paid\n",
       "79         Fully Paid\n",
       "80         Fully Paid\n",
       "84         Fully Paid\n",
       "90         Fully Paid\n",
       "93         Fully Paid\n",
       "104        Fully Paid\n",
       "121        Fully Paid\n",
       "132       Charged Off\n",
       "137        Fully Paid\n",
       "140        Fully Paid\n",
       "145        Fully Paid\n",
       "146           Current\n",
       "150        Fully Paid\n",
       "151        Fully Paid\n",
       "159       Charged Off\n",
       "164        Fully Paid\n",
       "             ...     \n",
       "420888     Fully Paid\n",
       "420890    Charged Off\n",
       "420892     Fully Paid\n",
       "420900     Fully Paid\n",
       "420910     Fully Paid\n",
       "420935     Fully Paid\n",
       "420936    Charged Off\n",
       "420951     Fully Paid\n",
       "420963     Fully Paid\n",
       "420966     Fully Paid\n",
       "420968     Fully Paid\n",
       "420972     Fully Paid\n",
       "420975     Fully Paid\n",
       "420978     Fully Paid\n",
       "421000     Fully Paid\n",
       "421007     Fully Paid\n",
       "421015     Fully Paid\n",
       "421018     Fully Paid\n",
       "421022     Fully Paid\n",
       "421032     Fully Paid\n",
       "421043     Fully Paid\n",
       "421054     Fully Paid\n",
       "421057    Charged Off\n",
       "421064     Fully Paid\n",
       "421066     Fully Paid\n",
       "421071     Fully Paid\n",
       "421077     Fully Paid\n",
       "421078     Fully Paid\n",
       "421083     Fully Paid\n",
       "421084     Fully Paid\n",
       "Name: loan_status, Length: 73336, dtype: object"
      ]
     },
     "metadata": {},
     "output_type": "display_data"
    },
    {
     "data": {
      "text/plain": [
       "7                    Current\n",
       "11               Charged Off\n",
       "18                Fully Paid\n",
       "20                Fully Paid\n",
       "26               Charged Off\n",
       "30                Fully Paid\n",
       "33                Fully Paid\n",
       "35               Charged Off\n",
       "41                Fully Paid\n",
       "42                Fully Paid\n",
       "46                Fully Paid\n",
       "51                   Current\n",
       "70               Charged Off\n",
       "99               Charged Off\n",
       "106               Fully Paid\n",
       "111                  Current\n",
       "112               Fully Paid\n",
       "118               Fully Paid\n",
       "119               Fully Paid\n",
       "124              Charged Off\n",
       "129                  Current\n",
       "134               Fully Paid\n",
       "142              Charged Off\n",
       "143               Fully Paid\n",
       "144               Fully Paid\n",
       "154              Charged Off\n",
       "162               Fully Paid\n",
       "168                  Current\n",
       "174               Fully Paid\n",
       "188               Fully Paid\n",
       "                 ...        \n",
       "420950           Charged Off\n",
       "420970            Fully Paid\n",
       "420973            Fully Paid\n",
       "420974               Current\n",
       "420984            Fully Paid\n",
       "420985           Charged Off\n",
       "420994            Fully Paid\n",
       "420996            Fully Paid\n",
       "421009            Fully Paid\n",
       "421012            Fully Paid\n",
       "421014    Late (31-120 days)\n",
       "421019           Charged Off\n",
       "421020            Fully Paid\n",
       "421023           Charged Off\n",
       "421039            Fully Paid\n",
       "421045            Fully Paid\n",
       "421047           Charged Off\n",
       "421050            Fully Paid\n",
       "421052               Current\n",
       "421059           Charged Off\n",
       "421063            Fully Paid\n",
       "421068           Charged Off\n",
       "421069               Current\n",
       "421072            Fully Paid\n",
       "421073            Fully Paid\n",
       "421074           Charged Off\n",
       "421075            Fully Paid\n",
       "421079            Fully Paid\n",
       "421089            Fully Paid\n",
       "421092           Charged Off\n",
       "Name: loan_status, Length: 62654, dtype: object"
      ]
     },
     "metadata": {},
     "output_type": "display_data"
    },
    {
     "data": {
      "text/plain": [
       "10                Fully Paid\n",
       "16                Fully Paid\n",
       "19                Fully Paid\n",
       "21                Fully Paid\n",
       "25                Fully Paid\n",
       "27                Fully Paid\n",
       "29                Fully Paid\n",
       "32                   Current\n",
       "39                Fully Paid\n",
       "40                Fully Paid\n",
       "48                Fully Paid\n",
       "49                Fully Paid\n",
       "54                Fully Paid\n",
       "55                Fully Paid\n",
       "59                Fully Paid\n",
       "60                Fully Paid\n",
       "62                Fully Paid\n",
       "68                Fully Paid\n",
       "74                Fully Paid\n",
       "75                Fully Paid\n",
       "78        Late (31-120 days)\n",
       "81                Fully Paid\n",
       "82                Fully Paid\n",
       "83                Fully Paid\n",
       "86                Fully Paid\n",
       "91                Fully Paid\n",
       "96                Fully Paid\n",
       "97                Fully Paid\n",
       "98                Fully Paid\n",
       "101               Fully Paid\n",
       "                 ...        \n",
       "420958            Fully Paid\n",
       "420959            Fully Paid\n",
       "420967            Fully Paid\n",
       "420976            Fully Paid\n",
       "420981            Fully Paid\n",
       "420991           Charged Off\n",
       "420999            Fully Paid\n",
       "421003            Fully Paid\n",
       "421006            Fully Paid\n",
       "421010            Fully Paid\n",
       "421013            Fully Paid\n",
       "421016           Charged Off\n",
       "421017               Current\n",
       "421024           Charged Off\n",
       "421025            Fully Paid\n",
       "421027            Fully Paid\n",
       "421034            Fully Paid\n",
       "421051               Current\n",
       "421056            Fully Paid\n",
       "421060            Fully Paid\n",
       "421065            Fully Paid\n",
       "421070               Current\n",
       "421076               Current\n",
       "421080            Fully Paid\n",
       "421085            Fully Paid\n",
       "421087            Fully Paid\n",
       "421088           Charged Off\n",
       "421090            Fully Paid\n",
       "421091            Fully Paid\n",
       "421094            Fully Paid\n",
       "Name: loan_status, Length: 117606, dtype: object"
      ]
     },
     "metadata": {},
     "output_type": "display_data"
    },
    {
     "data": {
      "text/plain": [
       "13         Fully Paid\n",
       "105        Fully Paid\n",
       "109       Charged Off\n",
       "158       Charged Off\n",
       "184        Fully Paid\n",
       "414       Charged Off\n",
       "462        Fully Paid\n",
       "494        Fully Paid\n",
       "497        Fully Paid\n",
       "630        Fully Paid\n",
       "686        Fully Paid\n",
       "691           Current\n",
       "694        Fully Paid\n",
       "735        Fully Paid\n",
       "736       Charged Off\n",
       "884        Fully Paid\n",
       "904        Fully Paid\n",
       "912        Fully Paid\n",
       "1029       Fully Paid\n",
       "1089       Fully Paid\n",
       "1113          Current\n",
       "1274       Fully Paid\n",
       "1284       Fully Paid\n",
       "1388       Fully Paid\n",
       "1415       Fully Paid\n",
       "1426          Current\n",
       "1446       Fully Paid\n",
       "1487          Current\n",
       "1537      Charged Off\n",
       "1554       Fully Paid\n",
       "             ...     \n",
       "419978    Charged Off\n",
       "420081    Charged Off\n",
       "420132    Charged Off\n",
       "420283    Charged Off\n",
       "420288        Current\n",
       "420291    Charged Off\n",
       "420294    Charged Off\n",
       "420308     Fully Paid\n",
       "420313     Fully Paid\n",
       "420421        Current\n",
       "420438    Charged Off\n",
       "420459     Fully Paid\n",
       "420518     Fully Paid\n",
       "420546     Fully Paid\n",
       "420569     Fully Paid\n",
       "420574     Fully Paid\n",
       "420627     Fully Paid\n",
       "420742        Current\n",
       "420758    Charged Off\n",
       "420760        Current\n",
       "420786     Fully Paid\n",
       "420793     Fully Paid\n",
       "420853    Charged Off\n",
       "420894     Fully Paid\n",
       "420961     Fully Paid\n",
       "420982    Charged Off\n",
       "420988     Fully Paid\n",
       "421002    Charged Off\n",
       "421008    Charged Off\n",
       "421037    Charged Off\n",
       "Name: loan_status, Length: 9817, dtype: object"
      ]
     },
     "metadata": {},
     "output_type": "display_data"
    },
    {
     "data": {
      "text/plain": [
       "47            Current\n",
       "67        Charged Off\n",
       "76         Fully Paid\n",
       "94        Charged Off\n",
       "108       Charged Off\n",
       "113           Current\n",
       "152       Charged Off\n",
       "167        Fully Paid\n",
       "230        Fully Paid\n",
       "245       Charged Off\n",
       "251       Charged Off\n",
       "286        Fully Paid\n",
       "336       Charged Off\n",
       "369        Fully Paid\n",
       "397        Fully Paid\n",
       "408        Fully Paid\n",
       "412        Fully Paid\n",
       "415           Current\n",
       "424        Fully Paid\n",
       "446       Charged Off\n",
       "506       Charged Off\n",
       "527           Current\n",
       "535        Fully Paid\n",
       "551           Current\n",
       "568       Charged Off\n",
       "575           Current\n",
       "598           Current\n",
       "599        Fully Paid\n",
       "609        Fully Paid\n",
       "617           Current\n",
       "             ...     \n",
       "420731    Charged Off\n",
       "420744     Fully Paid\n",
       "420769     Fully Paid\n",
       "420791        Current\n",
       "420806     Fully Paid\n",
       "420811    Charged Off\n",
       "420816        Current\n",
       "420822    Charged Off\n",
       "420872        Current\n",
       "420879    Charged Off\n",
       "420882     Fully Paid\n",
       "420905        Current\n",
       "420911    Charged Off\n",
       "420923        Current\n",
       "420926    Charged Off\n",
       "420927    Charged Off\n",
       "420934     Fully Paid\n",
       "420945        Current\n",
       "420955     Fully Paid\n",
       "420969     Fully Paid\n",
       "420979    Charged Off\n",
       "420989    Charged Off\n",
       "421001     Fully Paid\n",
       "421021    Charged Off\n",
       "421026    Charged Off\n",
       "421044    Charged Off\n",
       "421048    Charged Off\n",
       "421055     Fully Paid\n",
       "421086    Charged Off\n",
       "421093    Charged Off\n",
       "Name: loan_status, Length: 34948, dtype: object"
      ]
     },
     "metadata": {},
     "output_type": "display_data"
    },
    {
     "data": {
      "text/plain": [
       "316       Charged Off\n",
       "347       Charged Off\n",
       "808        Fully Paid\n",
       "992       Charged Off\n",
       "1215          Current\n",
       "1236      Charged Off\n",
       "1641      Charged Off\n",
       "2744      Charged Off\n",
       "2780       Fully Paid\n",
       "3302       Fully Paid\n",
       "3452       Fully Paid\n",
       "3995       Fully Paid\n",
       "4049          Current\n",
       "4052      Charged Off\n",
       "4677      Charged Off\n",
       "4798      Charged Off\n",
       "4833      Charged Off\n",
       "4961      Charged Off\n",
       "4965      Charged Off\n",
       "5433      Charged Off\n",
       "5503      Charged Off\n",
       "5636      Charged Off\n",
       "6593      Charged Off\n",
       "6763       Fully Paid\n",
       "6824       Fully Paid\n",
       "6827       Fully Paid\n",
       "6838          Current\n",
       "7210       Fully Paid\n",
       "7225       Fully Paid\n",
       "7794       Fully Paid\n",
       "             ...     \n",
       "417155     Fully Paid\n",
       "417416     Fully Paid\n",
       "417433     Fully Paid\n",
       "417507     Fully Paid\n",
       "417552     Fully Paid\n",
       "417653     Fully Paid\n",
       "417828     Fully Paid\n",
       "417976     Fully Paid\n",
       "418077    Charged Off\n",
       "418094    Charged Off\n",
       "418200     Fully Paid\n",
       "418773    Charged Off\n",
       "418903     Fully Paid\n",
       "419361    Charged Off\n",
       "419691     Fully Paid\n",
       "419853     Fully Paid\n",
       "419862        Current\n",
       "419941    Charged Off\n",
       "419974     Fully Paid\n",
       "420072    Charged Off\n",
       "420243     Fully Paid\n",
       "420266     Fully Paid\n",
       "420514    Charged Off\n",
       "420532    Charged Off\n",
       "420674     Fully Paid\n",
       "420794     Fully Paid\n",
       "420813     Fully Paid\n",
       "420866     Fully Paid\n",
       "420897    Charged Off\n",
       "420940     Fully Paid\n",
       "Name: loan_status, Length: 2167, dtype: object"
      ]
     },
     "metadata": {},
     "output_type": "display_data"
    }
   ],
   "source": [
    "## 대출 중 불량한 상태의 대출에 대해서\n",
    "## 불량한 상태의 대출( Charge Off, Late (31-120 days),\n",
    "## In Grace Period, Late (16-30 days))\n",
    "## 불량한 등급의 대출 건수 \n",
    "## 각 Grade의 대출 건수를 구하세요\n",
    "## 개별적으로 구해 보아요\n",
    "display(df2[\"loan_status\"].unique())\n",
    "display(df2[\"grade\"].unique())\n",
    "df2[\"grade\"][1]\n",
    "for i in df2[\"grade\"].unique():\n",
    "    display(df2.loc[df2[\"grade\"] == i, \"loan_status\"])"
   ]
  },
  {
   "cell_type": "code",
   "execution_count": 132,
   "metadata": {},
   "outputs": [
    {
     "name": "stdout",
     "output_type": "stream",
     "text": [
      "['Charged Off' 'Late (31-120 days)' 'In Grace Period' 'Late (16-30 days)']\n",
      "78919\n",
      "=========\n"
     ]
    },
    {
     "data": {
      "text/plain": [
       "A     4023\n",
       "B    14376\n",
       "C    24470\n",
       "D    18021\n",
       "E    12587\n",
       "F     4375\n",
       "G     1067\n",
       "Name: grade, dtype: int64"
      ]
     },
     "execution_count": 132,
     "metadata": {},
     "output_type": "execute_result"
    }
   ],
   "source": [
    "bad_loan_status = df2[\"loan_status\"].unique()[[1,3,4,5]]\n",
    "print(bad_loan_status)\n",
    "## 불량 대출에 대한 mask 생성\n",
    "bad_mask = df2[\"loan_status\"].isin(bad_loan_status)\n",
    "print(bad_mask.sum())\n",
    "print(\"===\" *3)\n",
    "df3 = df2.loc[bad_mask,\"grade\"]\n",
    "df3.value_counts().sort_index()"
   ]
  }
 ],
 "metadata": {
  "kernelspec": {
   "display_name": "Python [conda env:cpu_env] *",
   "language": "python",
   "name": "conda-env-cpu_env-py"
  },
  "language_info": {
   "codemirror_mode": {
    "name": "ipython",
    "version": 3
   },
   "file_extension": ".py",
   "mimetype": "text/x-python",
   "name": "python",
   "nbconvert_exporter": "python",
   "pygments_lexer": "ipython3",
   "version": "3.6.8"
  }
 },
 "nbformat": 4,
 "nbformat_minor": 2
}
