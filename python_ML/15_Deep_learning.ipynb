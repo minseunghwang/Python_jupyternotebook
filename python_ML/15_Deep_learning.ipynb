{
 "cells": [
  {
   "cell_type": "code",
   "execution_count": 19,
   "metadata": {},
   "outputs": [
    {
     "name": "stdout",
     "output_type": "stream",
     "text": [
      "(1, 3, 3, 1)\n",
      "(2, 2, 1, 3)\n",
      "[[[[ 1 -5 10]]\n",
      "\n",
      "  [[ 1 -5 10]]]\n",
      "\n",
      "\n",
      " [[[ 1 -5 10]]\n",
      "\n",
      "  [[ 1 -5 10]]]]\n",
      "(1, 2, 2, 3)\n"
     ]
    }
   ],
   "source": [
    "# convolution example\n",
    "import tensorflow as tf\n",
    "import numpy as np\n",
    "\n",
    "# image의 형태\n",
    "# 1장의 이미지는 3차원형태의 데이터\n",
    "# (이미지의 개수, width, height, color)\n",
    "# (1,3,3,1)\n",
    "\n",
    "image = np.array([[[[1],[2],[3]],\n",
    "                  [[4],[5],[6]],\n",
    "                  [[7],[8],[9]]]], dtype = np.float32)\n",
    "print(image.shape)\n",
    "\n",
    "# 필터를 준비해야 되요\n",
    "# (width, height, color, 필터의 개수)\n",
    "# (2,2,1,3) # 필터를 3개쓴겈 \n",
    "weight = np.array([[[[1,-5,10]],\n",
    "                   [[1,-5,10]]],\n",
    "                  [[[1,-5,10]],\n",
    "                   [[1,-5,10]]]])\n",
    "print(weight.shape)\n",
    "print(weight)\n",
    "\n",
    "# ms = np.array([[1],[2]])\n",
    "# print(ms.shape)\n",
    "# print(ms)\n",
    "\n",
    "# strdie 지정(사실 2차원이면 되는데 행렬연산때문에)\n",
    "# (1, stride width, stride height, 1) 4차원으로 표현 // 맨앞과 맨뒤의 1은 의미없어요 dummy에요! // 위로한픽셀 아래로 햔 픽셀 움직일거에요\n",
    "# stride = [1,1,1,1]\n",
    "conv2d = tf.nn.conv2d(image,weight, strides=[1,1,1,1], padding = \"VALID\") # 한칸씩 이동하는 strides를 이용할거고\n",
    "\n",
    "print(conv2d.shape)"
   ]
  },
  {
   "cell_type": "code",
   "execution_count": 60,
   "metadata": {
    "scrolled": true
   },
   "outputs": [
    {
     "data": {
      "image/png": "[encoded data removed]",
      "text/plain": [
       "<Figure size 432x288 with 1 Axes>"
      ]
     },
     "metadata": {
      "needs_background": "light"
     },
     "output_type": "display_data"
    },
    {
     "name": "stdout",
     "output_type": "stream",
     "text": [
      "(28, 28)\n",
      "Extracting ./data/mnist\\train-images-idx3-ubyte.gz\n",
      "Extracting ./data/mnist\\train-labels-idx1-ubyte.gz\n",
      "Extracting ./data/mnist\\t10k-images-idx3-ubyte.gz\n",
      "Extracting ./data/mnist\\t10k-labels-idx1-ubyte.gz\n",
      "(784,)\n",
      "(28, 28)\n"
     ]
    },
    {
     "data": {
      "image/png": "[encoded data removed]",
      "text/plain": [
       "<Figure size 432x288 with 1 Axes>"
      ]
     },
     "metadata": {
      "needs_background": "light"
     },
     "output_type": "display_data"
    },
    {
     "name": "stdout",
     "output_type": "stream",
     "text": [
      "(1, 14, 14, 5)\n",
      "(5, 14, 14, 1)\n"
     ]
    },
    {
     "data": {
      "image/png": "[encoded data removed]",
      "text/plain": [
       "<Figure size 432x288 with 5 Axes>"
      ]
     },
     "metadata": {
      "needs_background": "light"
     },
     "output_type": "display_data"
    }
   ],
   "source": [
    "## MNIST 예제를 이용해서 하나의 이미지에 대한\n",
    "## convolutional image 5개를 생성해 보아요!\n",
    "from tensorflow.examples.tutorials.mnist import input_data\n",
    "import tensorflow as tf\n",
    "import matplotlib.pyplot as plt\n",
    "import numpy as np\n",
    "import pandas as pd\n",
    "from skimage import data, io, filters\n",
    "\n",
    "img2 = io.imread(\"./data/number/0_2c.png\") # bmp\n",
    "io.imshow(img2)\n",
    "plt.show()\n",
    "img2\n",
    "print(img2.shape)\n",
    "\n",
    "# # ... or any other NumPy array!\n",
    "# edges = filters.sobel(img)\n",
    "# io.imshow(edges)\n",
    "# io.show()\n",
    "\n",
    "\n",
    "# Data Loading\n",
    "mnist = input_data.read_data_sets(\"./data/mnist\", one_hot=True)\n",
    "\n",
    "# training 이미지 중 2번째 이미지의 정보를 얻어와요!\n",
    "img = mnist.train.images[4]\n",
    "print(img.shape) # (784,) 1차원 배열로 만들어놨구만 ? \n",
    "\n",
    "img = img.reshape(28,-1)\n",
    "print(img.shape)\n",
    "plt.imshow(img, cmap=\"Greys\", interpolation=\"nearest\")\n",
    "plt.show()\n",
    "\n",
    "# 해당 이미지를 convolution 이미지로 변형\n",
    "# 2차원 형태의 img를 4차원 형태의 img로 변환\n",
    "img = img.reshape(-1,28,28,1) # (이미지의 개수, width, height, color) // (1,28,28,1)\n",
    "# 이미지가 준비되어있으니 필터를 준비\n",
    "# 5개의 필터를 이용, 2x2짜리 필터를 이용\n",
    "# (2,2,1,5)\n",
    "W = tf.Variable(tf.random_normal([2,2,1,5]), name=\"filter\")\n",
    "conv2d = tf.nn.conv2d(img,W,strides=[1,2,2,1], padding=\"SAME\")\n",
    "print(conv2d.shape)\n",
    "\n",
    "# (1, 14, 14, 5) => 14x14짜리 이미지가 5개 생성@@@@@@@@@@@@@@@@@@@@@@@@@@@@@@@@@@@@@@@@@@@@@@@@@@@@@@@@@@@@@@@@@@@@@@@@@@@@@@@@@@@@@\n",
    "# 새로 생성된 이미지를 plt를 이용해서 확인\n",
    "\n",
    "sess=tf.Session()\n",
    "sess.run(tf.global_variables_initializer())\n",
    "conv2d = sess.run(conv2d) # conv2d는 실제배열이고 , sess.run(conv2d)는 탠서가되겟죠 ?\n",
    "\n",
    "# 배열의 축을 임의로 변경\n",
    "# (1, 14, 14, 5) => (5, 14, 14, 1)\n",
    "conv2d = np.swapaxes(conv2d,0,3) # 축을 변경시키는 함수 conv2d의 0번째와 3번째를 스위치해라!! (1,14,14,5)에서 1과 5의 위치를 바까라@@@@@@@@\n",
    "print(conv2d.shape)\n",
    "fig,axes = plt.subplots(1,5) # 1행 5열짜리 subplot을 생성 \n",
    "                            # axes\n",
    "for idx,item in enumerate(conv2d):\n",
    "    axes[idx].imshow(item.reshape(14,14),cmap=\"Greys\")\n",
    "plt.show()"
   ]
  },
  {
   "cell_type": "code",
   "execution_count": 75,
   "metadata": {},
   "outputs": [
    {
     "name": "stdout",
     "output_type": "stream",
     "text": [
      "Extracting ./data/mnist\\train-images-idx3-ubyte.gz\n",
      "Extracting ./data/mnist\\train-labels-idx1-ubyte.gz\n",
      "Extracting ./data/mnist\\t10k-images-idx3-ubyte.gz\n",
      "Extracting ./data/mnist\\t10k-labels-idx1-ubyte.gz\n",
      "(?, 14, 14, 32)\n",
      "(?, 7, 7, 32)\n",
      "(?, 7, 7, 64)\n",
      "==\n",
      "(?, 7, 7, 64)\n",
      "Wall time: 890 ms\n"
     ]
    }
   ],
   "source": [
    "%%time\n",
    "#### NMIST with CNN\n",
    "from tensorflow.examples.tutorials.mnist import input_data\n",
    "import tensorflow as tf\n",
    "\n",
    "## 0. 그래프 초기화\n",
    "tf.reset_default_graph()\n",
    "\n",
    "## 1. Data Loading & Data 정제\n",
    "mnist = input_data.read_data_sets(\"./data/mnist\",one_hot=True)\n",
    "\n",
    "\n",
    "## 2. Placeholder 설정\n",
    "X = tf.placeholder(shape=[None,784], dtype=tf.float32)\n",
    "Y = tf.placeholder(shape=[None,10], dtype=tf.float32)\n",
    "drop_rate = tf.placeholder(dtype=tf.float32)\n",
    "\n",
    "## 3.Convolution\n",
    "## 3.1 Convolution layer 1\n",
    "x_img = tf.reshape(X,[-1,28,28,1]) # 칼라에대한 depth가 맨 마지막에 붙어요 (1)\n",
    "W1 = tf.Variable(tf.random_normal([2,2,1,32]), name=\"filter1\")\n",
    "L1 = tf.nn.conv2d(x_img, W1, strides=[1,2,2,1],padding = \"SAME\") # layer가 여러개있을수 있는데 첫번째 계층이란 얘기에요\n",
    "print(L1.shape)\n",
    "L1 = tf.nn.relu(L1)\n",
    "L1 = tf.nn.max_pool(L1,ksize=[1,2,2,1], strides=[1,2,2,1], padding=\"SAME\")\n",
    "print(L1.shape) # (?, 7, 7, 32) 원래 28x28 1장짜리가 7x7  짜리 32장으로 바뀜@@@@@@@@@@@@@@@@@@@@@@@@@@@@@@@@@@@@@@@@@@@@@@@ 렐루작업 멕스풀작업\n",
    "# [-1,28,28,1] 초기엔이랫는데\n",
    "# (?, 7, 7, 32) 이래짐\n",
    "\n",
    "## 3.2 Convolution layer 2\n",
    "                                         # 이미 흐릿해진 데이터를 가지고 한번더 컨벌루젼하니까 더 흐릿해지겟죠\n",
    "W2 = tf.Variable(tf.random_normal([3,3,32,64]), name=\"filter2\") # 크기가 3이고 3x3이고 (앞에 두개는 : 두번째 컨벌류전 필터의 사이즈, 세번재꺼는 위에서 맨마지막 (색깔의 갯수 인듯))\n",
    "\n",
    "L2 = tf.nn.conv2d(L1, W2, strides=[1,1,1,1],padding = \"SAME\") # layer가 여러개있을수 있는데 첫번째 계층이란 얘기에요\n",
    "print(L2.shape)\n",
    "L2 = tf.nn.relu(L2)\n",
    "print(\"==\")\n",
    "print(L2.shape)\n",
    "\n",
    "L2=tf.reshape(L2,[-1,7*7*64])\n",
    "\n",
    "## 4.Neural Network\n",
    "## 4.1 Weight & bias\n",
    "W3 = tf.get_variable(\"weight3\", shape=[7*7*64,256],initializer=tf.contrib.layers.xavier_initializer()) # 앞에꺼는 입력되는 컬럼의수or 이미지의수, 뒤에꺼가 뒤로 넘어갈 갯수 ? // 컬럼수, 아웃풋 수\n",
    "\n"
   ]
  },
  {
   "cell_type": "code",
   "execution_count": null,
   "metadata": {},
   "outputs": [
    {
     "name": "stdout",
     "output_type": "stream",
     "text": [
      "Extracting ./data/mnist\\train-images-idx3-ubyte.gz\n",
      "Extracting ./data/mnist\\train-labels-idx1-ubyte.gz\n",
      "Extracting ./data/mnist\\t10k-images-idx3-ubyte.gz\n",
      "Extracting ./data/mnist\\t10k-labels-idx1-ubyte.gz\n",
      "(?, 10)\n"
     ]
    }
   ],
   "source": [
    "%%time\n",
    "# MNIST with CNN\n",
    "from tensorflow.examples.tutorials.mnist import input_data\n",
    "import tensorflow as tf\n",
    "\n",
    "# graph initialization\n",
    "tf.reset_default_graph()\n",
    "\n",
    "# 1. Data Loading & Refining\n",
    "mnist = input_data.read_data_sets(\"./data/mnist\", one_hot=True)\n",
    "\n",
    "# 2. Placeholder 설정\n",
    "X = tf.placeholder(shape=[None,784], dtype=tf.float32)\n",
    "Y = tf.placeholder(shape=[None,10], dtype=tf.float32)\n",
    "drop_rate = tf.placeholder(dtype=tf.float32)\n",
    "\n",
    "# 3. Convolution\n",
    "# 3.1 Conv. layer 01\n",
    "x_img = tf.reshape(X, [-1,28,28,1])\n",
    "W1 = tf.Variable(tf.random_normal(shape=[2,2,1,32]), name=\"filter1\")\n",
    "L1 = tf.nn.conv2d(x_img, W1, strides=[1,2,2,1], padding=\"SAME\")\n",
    "L1 = tf.nn.relu(L1)\n",
    "L1 = tf.nn.max_pool(L1, ksize=[1,2,2,1], strides= [1,2,2,1], padding = \"SAME\")\n",
    "\n",
    "# 3.2 Conv. layer 02\n",
    "W2 = tf.Variable(tf.random_normal(shape=[3,3,32,64]), name=\"filter2\")\n",
    "L2 = tf.nn.conv2d(L1, W2, strides = [1,1,1,1], padding = \"SAME\")\n",
    "L2 = tf.nn.relu(L2)\n",
    "\n",
    "# 4. Neural Network\n",
    "# 4.1 Weight & Bias, Reshaping L2 to 2D matrix\n",
    "\n",
    "L2 = tf.reshape(L2, [-1, 7*7*64])\n",
    "W3 = tf.get_variable(\"weight\", shape=[7*7*64,10], initializer=tf.contrib.layers.xavier_initializer())\n",
    "b = tf.Variable(tf.random_normal(shape= [10]), name=\"bias\")\n",
    "\n",
    "logits = tf.matmul(L2,W3)+b\n",
    "H = tf.nn.relu(logits)\n",
    "print(H.shape)\n",
    "# cost function\n",
    "cost = tf.reduce_mean(tf.nn.softmax_cross_entropy_with_logits_v2(logits = logits, labels = Y))\n",
    "\n",
    "# train node 생성\n",
    "train = tf.train.AdamOptimizer(learning_rate=0.001).minimize(cost)\n",
    "\n",
    "# session 객체 생성 & 초기화\n",
    "sess = tf.Session()\n",
    "sess.run(tf.global_variables_initializer())\n",
    "\n",
    "# epoch(에폭): training data를 1번 학습 시키는 것\n",
    "training_epoch = 30\n",
    "batch_size = 5000\n",
    "\n",
    "\n",
    "# batch size & epoch 활용한 학습법\n",
    "for step in range(training_epoch):\n",
    "    num_of_iter = int(mnist.train.num_examples / batch_size)\n",
    "    cost_val = 0\n",
    "    for i in range(num_of_iter):\n",
    "        batch_x, batch_y = mnist.train.next_batch(batch_size = batch_size)\n",
    "        _, cost_val = sess.run([train, cost], feed_dict={X:batch_x, Y: batch_y, drop_rate: 0})\n",
    "    if step%100 == 0:\n",
    "        print(cost_val)\n",
    "        \n",
    "# Accuracy 측정\n",
    "predict = tf.argmax(H, 1)\n",
    "correct = tf.equal(predict, tf.argmax(Y,1))\n",
    "accuracy = tf.reduce_mean(tf.cast(correct, dtype=tf.float32))\n",
    "\n",
    "result = sess.run(accuracy, feed_dict={X: mnist.train.images, Y: mnist.train.labels, drop_rate:0})\n",
    "print(\"Accuracy: {}\".format(result))"
   ]
  },
  {
   "cell_type": "code",
   "execution_count": 77,
   "metadata": {},
   "outputs": [
    {
     "name": "stdout",
     "output_type": "stream",
     "text": [
      "Extracting ./data/mnist\\train-images-idx3-ubyte.gz\n",
      "Extracting ./data/mnist\\train-labels-idx1-ubyte.gz\n",
      "Extracting ./data/mnist\\t10k-images-idx3-ubyte.gz\n",
      "Extracting ./data/mnist\\t10k-labels-idx1-ubyte.gz\n",
      "(?, 10)\n",
      "0.4362086\n",
      "Accuracy: 0.9646909236907959\n",
      "Wall time: 11min 54s\n",
      "Parser   : 216 ms\n"
     ]
    }
   ],
   "source": [
    "%%time\n",
    "# MNIST with CNN\n",
    "from tensorflow.examples.tutorials.mnist import input_data\n",
    "import tensorflow as tf\n",
    "\n",
    "# graph initialization\n",
    "tf.reset_default_graph()\n",
    "\n",
    "# 1. Data Loading & Refining\n",
    "mnist = input_data.read_data_sets(\"./data/mnist\", one_hot=True)\n",
    "\n",
    "# 2. Placeholder 설정\n",
    "X = tf.placeholder(shape=[None,784], dtype=tf.float32)\n",
    "Y = tf.placeholder(shape=[None,10], dtype=tf.float32)\n",
    "drop_rate = tf.placeholder(dtype=tf.float32)\n",
    "\n",
    "# 3. Convolution\n",
    "# 3.1 Conv. layer 01\n",
    "x_img = tf.reshape(X, [-1,28,28,1])\n",
    "W1 = tf.Variable(tf.random_normal(shape=[2,2,1,8]), name=\"filter1\")\n",
    "L1 = tf.nn.conv2d(x_img, W1, strides=[1,2,2,1], padding=\"SAME\")\n",
    "L1 = tf.nn.relu(L1)\n",
    "L1 = tf.nn.max_pool(L1, ksize=[1,2,2,1], strides= [1,2,2,1], padding = \"SAME\")\n",
    "\n",
    "# 3.2 Conv. layer 02\n",
    "W2 = tf.Variable(tf.random_normal(shape=[3,3,8,16]), name=\"filter2\")\n",
    "L2 = tf.nn.conv2d(L1, W2, strides = [1,1,1,1], padding = \"SAME\")\n",
    "L2 = tf.nn.relu(L2)\n",
    "\n",
    "# 4. Neural Network\n",
    "# 4.1 Weight & Bias, Reshaping L2 to 2D matrix\n",
    "\n",
    "L2 = tf.reshape(L2, [-1, 7*7*16])\n",
    "W3 = tf.get_variable(\"weight\", shape=[7*7*16,10], initializer=tf.contrib.layers.xavier_initializer())\n",
    "b = tf.Variable(tf.random_normal(shape= [10]), name=\"bias\")\n",
    "\n",
    "logits = tf.matmul(L2,W3)+b\n",
    "H = tf.nn.relu(logits)\n",
    "print(H.shape)\n",
    "# cost function\n",
    "cost = tf.reduce_mean(tf.nn.softmax_cross_entropy_with_logits_v2(logits = logits, labels = Y))\n",
    "\n",
    "# train node 생성\n",
    "train = tf.train.AdamOptimizer(learning_rate=0.001).minimize(cost)\n",
    "\n",
    "# session 객체 생성 & 초기화\n",
    "sess = tf.Session()\n",
    "sess.run(tf.global_variables_initializer())\n",
    "\n",
    "# epoch(에폭): training data를 1번 학습 시키는 것\n",
    "training_epoch = 15\n",
    "batch_size = 500\n",
    "\n",
    "\n",
    "# batch size & epoch 활용한 학습법\n",
    "for step in range(training_epoch):\n",
    "    num_of_iter = int(mnist.train.num_examples / batch_size)\n",
    "    cost_val = 0\n",
    "    for i in range(num_of_iter):\n",
    "        batch_x, batch_y = mnist.train.next_batch(batch_size = batch_size)\n",
    "        _, cost_val = sess.run([train, cost], feed_dict={X:batch_x, Y: batch_y, drop_rate: 0})\n",
    "    if step%100 == 0:\n",
    "        print(cost_val)\n",
    "        \n",
    "# Accuracy 측정\n",
    "predict = tf.argmax(H, 1)\n",
    "correct = tf.equal(predict, tf.argmax(Y,1))\n",
    "accuracy = tf.reduce_mean(tf.cast(correct, dtype=tf.float32))\n",
    "\n",
    "result = sess.run(accuracy, feed_dict={X: mnist.train.images, Y: mnist.train.labels, drop_rate:0})\n",
    "print(\"Accuracy: {}\".format(result))"
   ]
  },
  {
   "cell_type": "code",
   "execution_count": 76,
   "metadata": {},
   "outputs": [
    {
     "data": {
      "image/png": "[encoded data removed]",
      "text/plain": [
       "<Figure size 432x288 with 1 Axes>"
      ]
     },
     "metadata": {
      "needs_background": "light"
     },
     "output_type": "display_data"
    },
    {
     "name": "stdout",
     "output_type": "stream",
     "text": [
      "(614, 768)\n",
      "(614, 768)\n",
      "(28, 28)\n"
     ]
    },
    {
     "data": {
      "image/png": "[encoded data removed]",
      "text/plain": [
       "<Figure size 432x288 with 1 Axes>"
      ]
     },
     "metadata": {
      "needs_background": "light"
     },
     "output_type": "display_data"
    }
   ],
   "source": [
    "## 돈돈 작품\n",
    "\n",
    "from tensorflow.examples.tutorials.mnist import input_data\n",
    "import tensorflow as tf\n",
    "import matplotlib.pyplot as plt\n",
    "import numpy as np\n",
    "import pandas as pd\n",
    "from skimage import data, io, filters\n",
    "\n",
    "img2 = io.imread(\"./data/number/dd2.png\") # bmp\n",
    "io.imshow(img2)\n",
    "plt.show()\n",
    "img2\n",
    "print(img2.shape)\n",
    "print(img2.shape) # (784,) 1차원 배열로 만들어놨구만 ? \n",
    "\n",
    "img = img.reshape(28,-1)  \n",
    "img = 1-img\n",
    "print(img.shape)\n",
    "io.imshow(img)\n",
    "plt.show()"
   ]
  },
  {
   "cell_type": "code",
   "execution_count": null,
   "metadata": {},
   "outputs": [],
   "source": []
  }
 ],
 "metadata": {
  "kernelspec": {
   "display_name": "Python [conda env:cpu_env]",
   "language": "python",
   "name": "conda-env-cpu_env-py"
  },
  "language_info": {
   "codemirror_mode": {
    "name": "ipython",
    "version": 2
   },
   "file_extension": ".py",
   "mimetype": "text/x-python",
   "name": "python",
   "nbconvert_exporter": "python",
   "pygments_lexer": "ipython2",
   "version": "2.7.16"
  }
 },
 "nbformat": 4,
 "nbformat_minor": 2
}
