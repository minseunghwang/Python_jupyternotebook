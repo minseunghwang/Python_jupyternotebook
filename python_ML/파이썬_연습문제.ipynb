{
 "cells": [
  {
   "cell_type": "code",
   "execution_count": 124,
   "metadata": {},
   "outputs": [
    {
     "name": "stdout",
     "output_type": "stream",
     "text": [
      "숫자를입력하세요 :1513511\n",
      "151\n",
      "115\n",
      "36\n"
     ]
    }
   ],
   "source": [
    "#.1\n",
    "put_value = input(\"숫자를입력하세요 :\")\n",
    "result = put_value\n",
    "#result = \"1513511\"\n",
    "eval(result)\n",
    "\n",
    "result2=list(result)\n",
    "result2 = [int (i) for i in result2]\n",
    "\n",
    "half=int(len(result2)/2)\n",
    "frontresult=result2[0:half]\n",
    "frontresult.reverse()\n",
    "backresult=result2[half+1:len(result)]\n",
    "backresult.reverse()\n",
    "\n",
    "k=len(frontresult)\n",
    "\n",
    "hap=0\n",
    "for tmp in range(0,half):\n",
    "    hap += (frontresult[tmp]*(10**(k-1)))\n",
    "    k -= 1\n",
    "    \n",
    "print(hap)\n",
    "k=len(frontresult)\n",
    "hapb=0\n",
    "for tmp in range(0,half):\n",
    "    hapb += (backresult[tmp]*(10**(k-1)))\n",
    "    k -= 1\n",
    "    \n",
    "print(hapb)\n",
    "\n",
    "print(abs(hapb-hap))"
   ]
  },
  {
   "cell_type": "code",
   "execution_count": 35,
   "metadata": {},
   "outputs": [
    {
     "name": "stdout",
     "output_type": "stream",
     "text": [
      "[3, 1, 1, 0, 2, 4]\n",
      "4\n"
     ]
    }
   ],
   "source": [
    "#.2\n",
    "# put_value = input(\"숫자를입력하세요 :\")\n",
    "# result = put_value\n",
    "input_str_list = ['6118266283093', '20445610', '443564831', '389593', '284281569493', '22686448']\n",
    "count_list=[]\n",
    "for i in range(0,6):\n",
    "    count=0\n",
    "    result = input_str_list[i]\n",
    "    alist=list()\n",
    "    result2=list()\n",
    "    if len(result)%2==0:\n",
    "        for b in range(0,len(result),2):\n",
    "            m=int(\"\".join(result[b:b+2]))\n",
    "            if m%10 !=0:\n",
    "                if m%2 == 0:\n",
    "                    if int(m/10)%2 ==0:\n",
    "                        count += 1\n",
    "        count_list.append(count)\n",
    "\n",
    "    else :\n",
    "        for b in range(1,len(result),2):\n",
    "            m=int(\"\".join(result[b:b+2]))\n",
    "            if m%10 !=0:\n",
    "                if m%2 == 0:\n",
    "                    if int(m/10)%2 ==0:\n",
    "                        count += 1\n",
    "                        \n",
    "        count_list.append(count)\n",
    "        \n",
    "print(count_list)\n",
    "print(max(count_list))"
   ]
  },
  {
   "cell_type": "code",
   "execution_count": 36,
   "metadata": {},
   "outputs": [
    {
     "name": "stdout",
     "output_type": "stream",
     "text": [
      "[입력] Hi123987IM100SN123L23457MD31\n",
      "[숫자추출] 1239871001232345731\n",
      "개수가 가장 많은 숫자 : 1 4(번)\n"
     ]
    }
   ],
   "source": [
    "#.3\n",
    "print(\"[입력] Hi123987IM100SN123L23457MD31\")\n",
    "input_string = 'Hi123987IM100SN123L23457MD31'\n",
    "\n",
    "import re\n",
    "\n",
    "i = re.findall('\\d+', input_string)\n",
    "stri=''\n",
    "for si in i:\n",
    "    stri += si\n",
    "print(\"[숫자추출]\", stri)\n",
    "\n",
    "listt=[]\n",
    "for q in range(0,10):\n",
    "    listt.append(stri.count(str(q)))\n",
    "    \n",
    "print(\"개수가 가장 많은 숫자 : {0} {1}(번)\" .format(listt.index(max(listt)), max(listt)))  "
   ]
  },
  {
   "cell_type": "code",
   "execution_count": 37,
   "metadata": {},
   "outputs": [
    {
     "name": "stdout",
     "output_type": "stream",
     "text": [
      "숫자를입력하세요 :1,100\n",
      "[총 개수]19\n"
     ]
    }
   ],
   "source": [
    "#.4\n",
    "x,y= map(int,input(\"숫자를입력하세요 :\").split(','))\n",
    "\n",
    "plus = '+'\n",
    "cnt =0\n",
    "for i in range(x+1,y):\n",
    "    a=list(str(i))\n",
    "    b=eval(plus.join(a))\n",
    "    if b % 5 ==0:\n",
    "        cnt += 1\n",
    "        \n",
    "print(\"[총 개수]{}\" .format(cnt))"
   ]
  },
  {
   "cell_type": "code",
   "execution_count": 123,
   "metadata": {},
   "outputs": [
    {
     "name": "stdout",
     "output_type": "stream",
     "text": [
      "['1', '2', '4', '5', '6', '9', '8', '4']\n",
      "[1번의결과] 12456984\n",
      "[덧셈 연산 결과] 9\n"
     ]
    }
   ],
   "source": [
    "#.5\n",
    "# x = int(input(\"숫자를입력하세요 :\"))\n",
    "x=12456984\n",
    "y=6248066\n",
    "a=list(str(x))\n",
    "print(a)\n",
    "change_value=''\n",
    "for i in a:\n",
    "    I=int(i)\n",
    "    change_value += (str(I%10) if I>=10 else str(I) if I%2==1 else str(I))\n",
    "print(\"[1번의결과]\",change_value)\n",
    "\n",
    "def mins():\n",
    "    global change_value, m_value\n",
    "    m_value=''\n",
    "    for i in range(0,len(change_value),2):\n",
    "        new_value=change_value[i]+change_value[i+1]\n",
    "        a=list(new_value)\n",
    "        b=eval('+'.join(a))\n",
    "        if b >= 10:\n",
    "            b = b % 10\n",
    "        m_value += str(b)\n",
    "    change_value=m_value\n",
    "    \n",
    "\n",
    "cnt=10\n",
    "while(True):\n",
    "    if len(change_value) % 2 ==1:\n",
    "        change_value += '0'\n",
    "    mins()\n",
    "    if(len(change_value) == 1):\n",
    "        break\n",
    "print(\"[덧셈 연산 결과]\", m_value)\n",
    "\n",
    "\n",
    "# for i in a:\n",
    "#     I=int(i)\n",
    "#     if I%2==1:\n",
    "#         I=I*2\n",
    "#         if I>=10:\n",
    "#             I=I%10\n",
    "#             change_value += str(I)\n",
    "#         else:\n",
    "#             change_value += str(I)\n",
    "#     else :\n",
    "#         change_value += str(I)"
   ]
  },
  {
   "cell_type": "code",
   "execution_count": 129,
   "metadata": {},
   "outputs": [
    {
     "name": "stdout",
     "output_type": "stream",
     "text": [
      "입력된 수: 34217869\n",
      "8\n"
     ]
    }
   ],
   "source": [
    "#.6\n",
    "x=192837465\n",
    "x=1234567\n",
    "x=34217869\n",
    "\n",
    "print(\"입력된 수:\",x)\n",
    "while(True):\n",
    "    m=len(str(x))\n",
    "    front=x//(10**(m//2 +1)) if int(m)%2==1 else x//10**(m//2)\n",
    "    back=x%(10**(m//2))\n",
    "    x = int(front) if front>back else int(back)\n",
    "    if int(len(str(x)))==1:\n",
    "        break\n",
    "print(x)"
   ]
  }
 ],
 "metadata": {
  "kernelspec": {
   "display_name": "Python [conda env:cpu_env] *",
   "language": "python",
   "name": "conda-env-cpu_env-py"
  },
  "language_info": {
   "codemirror_mode": {
    "name": "ipython",
    "version": 3
   },
   "file_extension": ".py",
   "mimetype": "text/x-python",
   "name": "python",
   "nbconvert_exporter": "python",
   "pygments_lexer": "ipython3",
   "version": "3.6.8"
  }
 },
 "nbformat": 4,
 "nbformat_minor": 2
}
