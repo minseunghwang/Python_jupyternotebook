{
 "cells": [
  {
   "cell_type": "code",
   "execution_count": 8,
   "metadata": {},
   "outputs": [
    {
     "name": "stdout",
     "output_type": "stream",
     "text": [
      "Extracting MNIST_data/train-images-idx3-ubyte.gz\n",
      "Extracting MNIST_data/train-labels-idx1-ubyte.gz\n",
      "Extracting MNIST_data/t10k-images-idx3-ubyte.gz\n",
      "Extracting MNIST_data/t10k-labels-idx1-ubyte.gz\n",
      "INFO:tensorflow:Restoring parameters from C:/python_ML/momodel/train_model.ckpt\n",
      "MNIST predicted Number :  7\n"
     ]
    }
   ],
   "source": [
    "import matplotlib.pyplot as plt\n",
    "import tensorflow as tf\n",
    "# from PIL import Image\n",
    "import numpy as np\n",
    "from tensorflow.examples.tutorials.mnist import input_data\n",
    "from IPython.display import Image\n",
    "from matplotlib.image import imread\n",
    "from skimage import data, io, filters\n",
    "from skimage.color import rgb2gray\n",
    "from skimage import io, color\n",
    "import sys\n",
    "import warnings\n",
    "\n",
    "warnings.filterwarnings(action=\"ignore\")\n",
    "tf.reset_default_graph()\n",
    "\n",
    "sess = tf.InteractiveSession()\n",
    "img = imread(\"./data/number/7.png\")\n",
    "# img = Image.open(sys.argv[1])\n",
    "\n",
    "img = rgb2gray(img)\n",
    "img = 1-img\n",
    "\n",
    "#plt.imshow(img, cmap = \"gray\")\n",
    "img = sess.run(tf.reshape(img,[1,784]))\n",
    "\n",
    "\n",
    "\n",
    "\n",
    "mnist = input_data.read_data_sets('MNIST_data/', one_hot=True)\n",
    "\n",
    "\n",
    "new_saver = tf.train.import_meta_graph('C:/python_ML/momodel/train_model.ckpt.meta')\n",
    "new_saver.restore(sess, 'C:/python_ML/momodel/train_model.ckpt')\n",
    "tf.all_variables()\n",
    "modelNum = 2\n",
    "result = np.zeros([1, 10])\n",
    "for num in range(modelNum):\n",
    "    modelName = \"model\"+str(num)\n",
    "    X = sess.graph.get_tensor_by_name(modelName+\"/Placeholder_1:0\")\n",
    "    logits = sess.graph.get_tensor_by_name(modelName+\"/dense_1/BiasAdd:0\")\n",
    "    train = sess.graph.get_tensor_by_name(modelName+\"/Placeholder:0\")\n",
    "    result += sess.run(logits, feed_dict={X:img, train:False})\n",
    "    \n",
    "print(\"MNIST predicted Number : \", np.argmax(result))"
   ]
  }
 ],
 "metadata": {
  "kernelspec": {
   "display_name": "Python [conda env:cpu_env3] *",
   "language": "python",
   "name": "conda-env-cpu_env3-py"
  },
  "language_info": {
   "codemirror_mode": {
    "name": "ipython",
    "version": 3
   },
   "file_extension": ".py",
   "mimetype": "text/x-python",
   "name": "python",
   "nbconvert_exporter": "python",
   "pygments_lexer": "ipython3",
   "version": "3.6.8"
  }
 },
 "nbformat": 4,
 "nbformat_minor": 2
}
